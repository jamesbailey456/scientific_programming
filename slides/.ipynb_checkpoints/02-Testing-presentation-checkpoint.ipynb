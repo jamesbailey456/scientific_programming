{
 "cells": [
  {
   "cell_type": "code",
   "execution_count": 1,
   "metadata": {
    "collapsed": false,
    "deletable": true,
    "editable": true
   },
   "outputs": [
    {
     "data": {
      "text/html": [
       "<link href='http://fonts.googleapis.com/css?family=Open+Sans:100,300,400,500,700,800,900,100italic,300italic,400italic,500italic,700italic,800italic,900italic' rel='stylesheet' type='text/css'>\n",
       "<link href='http://fonts.googleapis.com/css?family=Merriweather:400,700,400italic' rel='stylesheet' type='text/css'>\n",
       "<link href='http://fonts.googleapis.com/css?family=Inconsolata' rel='stylesheet' type='text/css'>\n",
       "<style>\n",
       "\n",
       "@font-face {\n",
       "    font-family: \"Computer Modern\";\n",
       "    src: url('http://mirrors.ctan.org/fonts/cm-unicode/fonts/otf/cmunss.otf');\n",
       "}\n",
       "\n",
       "#notebook_panel { /* main background */\n",
       "    background: rgb(245,245,245);\n",
       "}\n",
       "\n",
       "div #notebook { /* centre the content */\n",
       "    background: #fff; /* white background for content */\n",
       "}\n",
       "\n",
       "\n",
       "div.text_cell_render{\n",
       "    font-family: 'Open Sans', sans-serif;\n",
       "}\n",
       "\n",
       "\n",
       "/* Formatting for header cells */\n",
       ".text_cell_render h1 {\n",
       "    font-family: 'Merriweather', serif;\n",
       "    font-style: regular;\n",
       "    font-weight: 400;\n",
       "    color: rgb(36,67,87);\n",
       "    margin-bottom: 0.5em;\n",
       "    margin-top: 0.5em;\n",
       "    display: block;\n",
       "}\n",
       ".text_cell_render h2 {\n",
       "    font-family: 'Merriweather', serif;\n",
       "    font-weight: 400;\n",
       "    line-height: 100%;\n",
       "    color: rgb(36,67,87);\n",
       "    margin-bottom: 0.3em;\n",
       "    margin-top: 0.3em;\n",
       "    display: block;\n",
       "}\n",
       "\n",
       ".text_cell_render h3 {\n",
       "    font-family: 'Merriweather', serif;\n",
       "    margin-top:1em;\n",
       "    font-weight: 400;\n",
       "    margin-bottom: 0.3em;\n",
       "    font-style: regular;\n",
       "    color: rgb(85, 111, 127);\n",
       "}\n",
       "\n",
       ".text_cell_render h4 {\n",
       "    font-family: 'Inconsolata', monospace;\n",
       "    margin-top: 0.3em;\n",
       "    margin-bottom: 0.5em;\n",
       "    font-style: regular;\n",
       "    color: rgb(85, 111, 127);\n",
       "}\n",
       "\n",
       ".text_cell_render h5 {  /*Captions*/\n",
       "    font-family: 'Merriweather', serif;\n",
       "    font-weight: 400;\n",
       "    color: rgb(85, 111, 127);\n",
       "    font-style: regular;\n",
       "    margin-bottom: .1em;\n",
       "    margin-top: 0.8em;\n",
       "    display: block;\n",
       "    text-align: center;\n",
       "}\n",
       "\n",
       ".text_cell_render h6 { /*use this for copyright note*/\n",
       "    font-family: 'Inconsolata', sans-serif;\n",
       "    font-weight: 300;\n",
       "    line-height: 100%;\n",
       "    color: grey;\n",
       "    margin-bottom: 1px;\n",
       "    margin-top: 1px;\n",
       "}\n",
       "\n",
       "\n",
       "</style>\n",
       "<script>\n",
       "    MathJax.Hub.Config({\n",
       "                        TeX: {\n",
       "                           extensions: [\"AMSmath.js\"],\n",
       "                           equationNumbers: { autoNumber: \"AMS\", useLabelIds: true}\n",
       "                           },\n",
       "                tex2jax: {\n",
       "                    inlineMath: [ ['$','$'], [\"\\\\(\",\"\\\\)\"] ],\n",
       "                    displayMath: [ ['$$','$$'], [\"\\\\[\",\"\\\\]\"] ]\n",
       "                },\n",
       "                displayAlign: 'center', // Change this to 'center' to center equations.\n",
       "                \"HTML-CSS\": {\n",
       "                    styles: {'.MathJax_Display': {\"margin\": 4}}\n",
       "                }\n",
       "        });\n",
       "</script>\n"
      ],
      "text/plain": [
       "<IPython.core.display.HTML object>"
      ]
     },
     "execution_count": 1,
     "metadata": {},
     "output_type": "execute_result"
    }
   ],
   "source": [
    "from IPython.core.display import HTML\n",
    "css_file = \"./presentation_notebook_style.css\"\n",
    "HTML(open(css_file, 'r').read())"
   ]
  },
  {
   "cell_type": "code",
   "execution_count": 2,
   "metadata": {
    "collapsed": true,
    "deletable": true,
    "editable": true
   },
   "outputs": [],
   "source": [
    "import numpy\n",
    "from numpy.random import rand\n",
    "import matplotlib.pyplot as plt\n",
    "%matplotlib inline\n",
    "plt.rcParams.update({'font.size': 18})\n",
    "from scipy.integrate import quad\n",
    "import unittest"
   ]
  },
  {
   "cell_type": "markdown",
   "metadata": {
    "deletable": true,
    "editable": true,
    "slideshow": {
     "slide_type": "slide"
    }
   },
   "source": [
    "# 02 Testing Scientific Codes"
   ]
  },
  {
   "cell_type": "markdown",
   "metadata": {
    "deletable": true,
    "editable": true,
    "slideshow": {
     "slide_type": "slide"
    }
   },
   "source": [
    "# Why do we test?\n",
    "- In the experimental Sciences, new theories are developed by applying the Scientific method\n",
    "- Perform tests to demonstrate results are ***accurate, reproducible*** and ***reliable***\n",
    "- Test experimental setup show it's working as designed and to eliminate or quantify any systematic errors\n",
    "- A result will not be trusted unless experiment itself has been carried out to a suitable standard"
   ]
  },
  {
   "cell_type": "markdown",
   "metadata": {
    "deletable": true,
    "editable": true,
    "slideshow": {
     "slide_type": "subslide"
    }
   },
   "source": [
    "# Why do we test?\n",
    "- In computational Science, we should apply the same principles to our code\n",
    "- A result should only be trusted if the code that has produced it has undergone rigorous testing which demonstrates:\n",
    "    * it is working as intended \n",
    "    * any limitations of the code (e.g. numerical errors) are understood and quantified"
   ]
  },
  {
   "cell_type": "markdown",
   "metadata": {
    "deletable": true,
    "editable": true,
    "slideshow": {
     "slide_type": "subslide"
    }
   },
   "source": [
    "# Testing scientific code is hard\n",
    "- Often investigate systems where *exact behaviour unknown*\n",
    "- Can be very *complex*, built over a number of years (or even decades!) with contributions from a vast number of people\n",
    "- Even for the most complicated of codes there are a number of different tests we can apply to build ***robust, reliable code*** whose results can be ***trusted***. "
   ]
  },
  {
   "cell_type": "markdown",
   "metadata": {
    "deletable": true,
    "editable": true,
    "slideshow": {
     "slide_type": "subslide"
    }
   },
   "source": [
    "<center>![Good code](https://imgs.xkcd.com/comics/good_code.png )\n",
    "[xkcd](https://xkcd.com/844/)</center>"
   ]
  },
  {
   "cell_type": "markdown",
   "metadata": {
    "deletable": true,
    "editable": true,
    "slideshow": {
     "slide_type": "slide"
    }
   },
   "source": [
    "# When should I test?\n",
    "<br />\n",
    "## Always and often\n",
    "\n",
    "- The earlier you start testing the better:\n",
    "    * catch bugs as they develop and before they become too entrenched in the code. \n",
    "- Try and execute tests every time changes are made\n",
    "- Continuous integration useful to make sure tests are run frequently "
   ]
  },
  {
   "cell_type": "markdown",
   "metadata": {
    "deletable": true,
    "editable": true,
    "slideshow": {
     "slide_type": "subslide"
    }
   },
   "source": [
    "# When should I test?\n",
    "- Important to ***review your tests regularly***\n",
    "- In actively developed code, tests must be amended and new tests written so new features are also tested\n",
    "- Regression tests useful to test changes to the code improve its performance rather than making it worse\n",
    "- Code coverage makes sure ***all*** code is being tested\n",
    "    * If only 20% of the code has been tested, cannot trust other 80% of the code is producing reliable results "
   ]
  },
  {
   "cell_type": "markdown",
   "metadata": {
    "deletable": true,
    "editable": true,
    "slideshow": {
     "slide_type": "slide"
    }
   },
   "source": [
    "# Effective testing\n",
    "\n",
    "- Necessary to make sure entire parameter space is tested, not just one or two nice cases\n",
    "- Particularly important: *edge* and *corner* cases\n",
    "    * Edge cases: at beginning and end of input parameter space\n",
    "    * Corner cases: one or more edge cases are combined\n",
    "- Errors frequently arise here - often special code is required to deal with boundary values"
   ]
  },
  {
   "cell_type": "markdown",
   "metadata": {
    "deletable": true,
    "editable": true,
    "slideshow": {
     "slide_type": "subslide"
    }
   },
   "source": [
    "# Tests should break your code\n",
    "- Also important to check code breaks as expected\n",
    "- If code input is garbage but still manages to run as normal, that is not good behaviour and suggests some validation of inputs is needed\n",
    "- Highlights where runtime testing and exceptions are needed in code"
   ]
  },
  {
   "cell_type": "markdown",
   "metadata": {
    "deletable": true,
    "editable": true,
    "slideshow": {
     "slide_type": "subslide"
    }
   },
   "source": [
    "# Unit tests\n",
    "\n",
    "- For complicated codes made up of many functions, useful to write tests that check small parts - *units* - at a time\n",
    "- Easier to track down exact location of bugs\n",
    "- Units may be individual functions or groups of shorter functions\n",
    "- Encourage good coding practice as require code to be modular"
   ]
  },
  {
   "cell_type": "markdown",
   "metadata": {
    "deletable": true,
    "editable": true,
    "slideshow": {
     "slide_type": "subslide"
    }
   },
   "source": [
    "# Integration tests\n",
    "\n",
    "- Need to verify smaller units work together.\n",
    "- Individual functions may work, but this is no guarantee that they will work when put together\n",
    "- Can encompass a small section of code, e.g. to check that one function correctly calls another, all the way up to the entire code\n",
    "- Integration tests can be difficult to design - can involve many different functions, so often a lot more complex than unit tests"
   ]
  },
  {
   "cell_type": "markdown",
   "metadata": {
    "deletable": true,
    "editable": true,
    "slideshow": {
     "slide_type": "subslide"
    }
   },
   "source": [
    "# Convergence tests\n",
    "\n",
    "- Often calculate solution on some grid - a discretised approximation of exact continuous solution\n",
    "- As grid resolution increases, solution should approach exact solution\n",
    "- *Convergence tests* check this\n",
    "- Calculate solution at various resolutions, calculate error\n",
    "- Error should decrease with increasing resolution at algorithm's order of convergence"
   ]
  },
  {
   "cell_type": "markdown",
   "metadata": {
    "deletable": true,
    "editable": true,
    "slideshow": {
     "slide_type": "subslide"
    }
   },
   "source": [
    "# Regression tests\n",
    "\n",
    "- When building your code, generally aim for its performance to improve with time\n",
    "- Results should get more accurate (or at least not deteriorate)\n",
    "- Solution: *regression tests* \n",
    "- Run multiple versions of code, compare outputs\n",
    "- If output has changed, test fails\n",
    "- Helps catch bugs other types of tests may not, ensure project remains backwards-compatible"
   ]
  },
  {
   "cell_type": "markdown",
   "metadata": {
    "deletable": true,
    "editable": true,
    "slideshow": {
     "slide_type": "slide"
    }
   },
   "source": [
    "# Common problems and how to solve them"
   ]
  },
  {
   "cell_type": "markdown",
   "metadata": {
    "deletable": true,
    "editable": true,
    "slideshow": {
     "slide_type": "subslide"
    }
   },
   "source": [
    "# My code has some randomness\n",
    "- Time evolution problems: output at individual timestep may be random, but behaviour averaged over several timesteps is known - test this!\n",
    "- Other problems: test average behaviour across entire domain or sections of domain\n",
    "- Even if completely random so not possible to take meaninful averages, outputs should still be within set of known values - test this!\n",
    "- Write tests that isolate random parts so can check non-random parts work\n",
    "- If using a random number generator, eliminate non-determinism by testing using a fixed seed value"
   ]
  },
  {
   "cell_type": "markdown",
   "metadata": {
    "deletable": true,
    "editable": true,
    "slideshow": {
     "slide_type": "subslide"
    }
   },
   "source": [
    "# I don't know the correct solution\n",
    "\n",
    "- In experimental science, test experimental setup using a *control*\n",
    "    * Use input data where outcome is known so any bugs in apparatus or systematic errors can be identified and understood\n",
    "- In computational science, there's usually a simple system whose behaviour is known\n",
    "    * Time evolution problems: system which is initially static should remain that way\n",
    "- If this is not the case, there is something seriously wrong with the code! \n",
    "- In physics, can check for symmetries (e.g. translation, reflection, time reversal), conserved quantities (e.g. mass, energy, charge)"
   ]
  },
  {
   "cell_type": "markdown",
   "metadata": {
    "deletable": true,
    "editable": true,
    "slideshow": {
     "slide_type": "subslide"
    }
   },
   "source": [
    "# I didn't write most of the code - how do I know that the bit I wrote works?\n",
    "\n",
    "- Unit tests! \n",
    "- Test original code in isolation\n",
    "- Any failures in subsequent tests that then incorporate your code will therefore only be the result of bugs in your code"
   ]
  },
  {
   "cell_type": "markdown",
   "metadata": {
    "deletable": true,
    "editable": true,
    "slideshow": {
     "slide_type": "subslide"
    }
   },
   "source": [
    "# I know there is some numerical error in my code - how can I test my code is correct up to this error?\n",
    "\n",
    "- In numerical calculations, there will always be some computational error that cannot be avoided\n",
    "    * floating point representation of numerical data \n",
    "    * accuracy  of algorithm\n",
    "- Rarely require result to be 100% precise, but instead correct up to some tolerance\n",
    "- Build tests to reflect this. "
   ]
  }
 ],
 "metadata": {
  "anaconda-cloud": {},
  "celltoolbar": "Slideshow",
  "kernelspec": {
   "display_name": "Python 3",
   "language": "python",
   "name": "python3"
  },
  "language_info": {
   "codemirror_mode": {
    "name": "ipython",
    "version": 3
   },
   "file_extension": ".py",
   "mimetype": "text/x-python",
   "name": "python",
   "nbconvert_exporter": "python",
   "pygments_lexer": "ipython3",
   "version": "3.6.0"
  },
  "livereveal": {
   "start_slideshow_at": "selected"
  },
  "toc": {
   "colors": {
    "hover_highlight": "#DAA520",
    "running_highlight": "#FF0000",
    "selected_highlight": "#FFD700"
   },
   "moveMenuLeft": true,
   "nav_menu": {
    "height": "351px",
    "width": "252px"
   },
   "navigate_menu": true,
   "number_sections": true,
   "sideBar": true,
   "threshold": 4,
   "toc_cell": false,
   "toc_section_display": "block",
   "toc_window_display": false
  }
 },
 "nbformat": 4,
 "nbformat_minor": 1
}
