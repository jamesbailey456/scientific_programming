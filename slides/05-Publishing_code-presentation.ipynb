{
 "cells": [
  {
   "cell_type": "code",
   "execution_count": 1,
   "metadata": {},
   "outputs": [
    {
     "data": {
      "text/html": [
       "<link href='http://fonts.googleapis.com/css?family=Open+Sans:100,300,400,500,700,800,900,100italic,300italic,400italic,500italic,700italic,800italic,900italic' rel='stylesheet' type='text/css'>\n",
       "<link href='http://fonts.googleapis.com/css?family=Merriweather:400,700,400italic' rel='stylesheet' type='text/css'>\n",
       "<link href='http://fonts.googleapis.com/css?family=Inconsolata' rel='stylesheet' type='text/css'>\n",
       "<style>\n",
       "\n",
       "@font-face {\n",
       "    font-family: \"Computer Modern\";\n",
       "    src: url('http://mirrors.ctan.org/fonts/cm-unicode/fonts/otf/cmunss.otf');\n",
       "}\n",
       "\n",
       "#notebook_panel { /* main background */\n",
       "    background: rgb(245,245,245);\n",
       "}\n",
       "\n",
       "div #notebook { /* centre the content */\n",
       "    background: #fff; /* white background for content */\n",
       "}\n",
       "\n",
       "\n",
       "div.text_cell_render{\n",
       "    font-family: 'Open Sans', sans-serif;\n",
       "}\n",
       "\n",
       "\n",
       "/* Formatting for header cells */\n",
       ".text_cell_render h1 {\n",
       "    font-family: 'Merriweather', serif;\n",
       "    font-style: regular;\n",
       "    font-weight: 400;\n",
       "    color: rgb(36,67,87);\n",
       "    margin-bottom: 0.5em;\n",
       "    margin-top: 0.5em;\n",
       "    display: block;\n",
       "}\n",
       ".text_cell_render h2 {\n",
       "    font-family: 'Merriweather', serif;\n",
       "    font-weight: 400;\n",
       "    line-height: 100%;\n",
       "    color: rgb(36,67,87);\n",
       "    margin-bottom: 0.3em;\n",
       "    margin-top: 0.3em;\n",
       "    display: block;\n",
       "}\n",
       "\n",
       ".text_cell_render h3 {\n",
       "    font-family: 'Merriweather', serif;\n",
       "    margin-top:1em;\n",
       "    font-weight: 400;\n",
       "    margin-bottom: 0.3em;\n",
       "    font-style: regular;\n",
       "    color: rgb(85, 111, 127);\n",
       "}\n",
       "\n",
       ".text_cell_render h4 {\n",
       "    font-family: 'Inconsolata', monospace;\n",
       "    margin-top: 0.3em;\n",
       "    margin-bottom: 0.5em;\n",
       "    font-style: regular;\n",
       "    color: rgb(85, 111, 127);\n",
       "}\n",
       "\n",
       ".text_cell_render h5 {  /*Captions*/\n",
       "    font-family: 'Merriweather', serif;\n",
       "    font-weight: 400;\n",
       "    color: rgb(85, 111, 127);\n",
       "    font-style: regular;\n",
       "    margin-bottom: .1em;\n",
       "    margin-top: 0.8em;\n",
       "    display: block;\n",
       "    text-align: center;\n",
       "}\n",
       "\n",
       ".text_cell_render h6 { /*use this for copyright note*/\n",
       "    font-family: 'Inconsolata', sans-serif;\n",
       "    font-weight: 300;\n",
       "    line-height: 100%;\n",
       "    color: grey;\n",
       "    margin-bottom: 1px;\n",
       "    margin-top: 1px;\n",
       "}\n",
       "\n",
       "\n",
       "</style>\n",
       "<script>\n",
       "    MathJax.Hub.Config({\n",
       "                        TeX: {\n",
       "                           extensions: [\"AMSmath.js\"],\n",
       "                           equationNumbers: { autoNumber: \"AMS\", useLabelIds: true}\n",
       "                           },\n",
       "                tex2jax: {\n",
       "                    inlineMath: [ ['$','$'], [\"\\\\(\",\"\\\\)\"] ],\n",
       "                    displayMath: [ ['$$','$$'], [\"\\\\[\",\"\\\\]\"] ]\n",
       "                },\n",
       "                displayAlign: 'center', // Change this to 'center' to center equations.\n",
       "                \"HTML-CSS\": {\n",
       "                    styles: {'.MathJax_Display': {\"margin\": 4}}\n",
       "                }\n",
       "        });\n",
       "</script>\n"
      ],
      "text/plain": [
       "<IPython.core.display.HTML object>"
      ]
     },
     "execution_count": 1,
     "metadata": {},
     "output_type": "execute_result"
    }
   ],
   "source": [
    "from IPython.core.display import HTML\n",
    "css_file = \"./presentation_notebook_style.css\"\n",
    "HTML(open(css_file, 'r').read())"
   ]
  },
  {
   "cell_type": "markdown",
   "metadata": {
    "slideshow": {
     "slide_type": "slide"
    }
   },
   "source": [
    "# 5. Publishing Scientific Codes"
   ]
  },
  {
   "cell_type": "markdown",
   "metadata": {
    "slideshow": {
     "slide_type": "subslide"
    }
   },
   "source": [
    "## Publishing Scientific Codes\n",
    "\n",
    "- At some point may want to *publish* your code (or at least show it to another person)\n",
    "- Want to make it as easy as possible for some other person to install and run you code \n",
    "    * Use tools which enable easy installation and replication of your runtime environment"
   ]
  },
  {
   "cell_type": "markdown",
   "metadata": {
    "slideshow": {
     "slide_type": "subslide"
    }
   },
   "source": [
    "<center>![Automation](https://intellyx.com/wp-content/uploads/2015/11/automate-all-the-things.jpg)</center>"
   ]
  },
  {
   "cell_type": "markdown",
   "metadata": {
    "slideshow": {
     "slide_type": "slide"
    }
   },
   "source": [
    "## Automating installation\n",
    "\n",
    "- For simple python codes, installation may be as easy as *downloading* the code and running `python filename.py`. \n",
    "- For more complex codes spread over many files, require compilation and/or have multiple dependencies, installation can get a lot trickier\n",
    "- Need some way of automating the installation and build process\n",
    "- Can also save *you* a lot of time\n",
    "    * makes sure project always gets build correctly using the correct file versions\n",
    "- ***Makefiles*** one way to do this"
   ]
  },
  {
   "cell_type": "markdown",
   "metadata": {
    "slideshow": {
     "slide_type": "subslide"
    }
   },
   "source": [
    "## Make\n",
    "\n",
    "<center>![Automation](https://imgs.xkcd.com/comics/automation.png )</center>\n",
    "##### Automation - [xkcd](https://xkcd.com/1319/)"
   ]
  },
  {
   "cell_type": "markdown",
   "metadata": {
    "slideshow": {
     "slide_type": "subslide"
    }
   },
   "source": [
    "### Make\n",
    "\n",
    "- Projects often end up spread across many files and directories with *complex inter-dependencies*\n",
    "    * A change made to one file can have a knock on effect to several other files up the chain of dependencies\n",
    "    * Keeping track of this and making sure that all files are kept up to date can quickly get complicated and time-consuming\n",
    "\n",
    "- Automate this using a tool such as `GNU Make`\n",
    "- `Make` describes the *dependencies* between files\n",
    "- When a project is rebuilt, it looks to see which files have changed, only rebuilds the bits that need rebuilding. \n",
    "- Saves time for large projects where rebuilding everything from scratch can take a while"
   ]
  },
  {
   "cell_type": "markdown",
   "metadata": {
    "slideshow": {
     "slide_type": "slide"
    }
   },
   "source": [
    "## Replicating runtime environments\n",
    "\n",
    "- No two runtime environments are exactly the same. \n",
    "    * Every computational setup has its own *unique hardware* and selection of installed software\n",
    "- However, we want our code to be as **reproducible** as possible\n",
    "    * should be possible to gain exactly the same results, regardless of what system the code is run on\n",
    "- We also would like our code to be as **accessible** as possible\n",
    "    * support a range of operating systems and computer hardware. "
   ]
  },
  {
   "cell_type": "markdown",
   "metadata": {
    "slideshow": {
     "slide_type": "subslide"
    }
   },
   "source": [
    "### Conda\n",
    "- `conda` is a package and environment management system which allows users to create multiple runtime environments (e.g. containing different versions of libraries) and easily switch between them\n",
    "- Allows users of your code to install exact version of libraries you use without them having to wreck their own setup"
   ]
  },
  {
   "cell_type": "markdown",
   "metadata": {
    "slideshow": {
     "slide_type": "subslide"
    }
   },
   "source": [
    "### Containers\n",
    "\n",
    "- ***Containers*** are a way of producing a lightweight, standalone, executable package of a piece of software\n",
    "- This package (or *container image*) includes everything required to run the software: the code itself, the runtime environment, libraries, settings etc\n",
    "- Software run inside container is *isolated* from the rest of the system\n",
    "- Many containers can be run on the same machine at once, allowing multiple versions of a code or runtime environment to exist at once and run at the same time without conflict"
   ]
  },
  {
   "cell_type": "markdown",
   "metadata": {
    "slideshow": {
     "slide_type": "subslide"
    }
   },
   "source": [
    "### Containers vs virtual machines\n",
    "\n",
    "- Containers share many similarities with virtual machines: both allow code to be run in isolated runtime environments\n",
    "- Container images are much more **lightweight** (typically tens of MBs) as share the operating system (OS) kernel with other containers\n",
    "- Virtual machines include a full copy of an operating system, so typically take up tens of GBs\n",
    "- Container images contain exactly what is required by the software and no more\n",
    "- Virtual machines contain a of lot of extra material that is likely to already exist on the host machine (e.g. a full operating system)"
   ]
  },
  {
   "cell_type": "markdown",
   "metadata": {
    "slideshow": {
     "slide_type": "subslide"
    }
   },
   "source": [
    "<div style=\"float:left;width:45%\">\n",
    "     <img src=\"../images/Container@2x.png\" alt=\"Containers\">\n",
    "     \n",
    "     <center>Containers</center>\n",
    "</div>\n",
    "<div style=\"float:right;width:45%\">\n",
    "    <img src=\"../images/VM@2x.png\" alt=\"Virtual machines\">\n",
    "    \n",
    "    <center>Virtual machines</center>\n",
    "</div>"
   ]
  },
  {
   "cell_type": "markdown",
   "metadata": {
    "slideshow": {
     "slide_type": "fragment"
    }
   },
   "source": [
    "##### Source: [Docker](https://www.docker.com/what-container)"
   ]
  },
  {
   "cell_type": "markdown",
   "metadata": {
    "slideshow": {
     "slide_type": "slide"
    }
   },
   "source": [
    "## Distributing code\n",
    "\n",
    "- Sharing code can be as simple as sharing a link to your github repo via email / twitter / your blog\n",
    "- There are also various package indexes you can upload your code to, making it easier for others to find and download. \n",
    "    * For python, can upload to the [Python Package Index](https://pypi.python.org/pypi), PyPI. \n",
    "    * For python and general code projects, conda packages can be uploaded to [anaconda.org](Anaconda.org)\n",
    "    * Can upload a Docker image of your project to the Docker cloud."
   ]
  },
  {
   "cell_type": "markdown",
   "metadata": {
    "slideshow": {
     "slide_type": "subslide"
    }
   },
   "source": [
    "### Licences\n",
    "\n",
    "- Before you share your code, you should make sure that it has the correct software licence\n",
    "- The licence states who *owns* the software, who is *allowed* to use it and what *rights* the users and owners have. \n",
    "- Typically a text file called `LICENSE` in the project's root directory\n",
    "- [Choose a license](http://choosealicense.com/) is a good place to start for open source projects"
   ]
  },
  {
   "cell_type": "markdown",
   "metadata": {
    "slideshow": {
     "slide_type": "subslide"
    }
   },
   "source": [
    "### DOIs\n",
    "\n",
    "- The internet is a pretty transient place \n",
    "    * Websites are often rearranged, making it hard to provide links that will still be valid in the future\n",
    "- Good idea to give your code a ***digital object indentifier (DOI)***\n",
    "- A DOI is a unique alphanumeric string by which content can be identified and which will provide a persistent link to its location on the internet\n",
    "- Free DOIs for GitHub repositories can be obtained using [zenodo](https://zenodo.org/)"
   ]
  },
  {
   "cell_type": "markdown",
   "metadata": {
    "slideshow": {
     "slide_type": "slide"
    }
   },
   "source": [
    "## Presenting results\n",
    "\n",
    "\n",
    "- One of the best ways to present results is through **figures** - graphical representations of data allow the reader to better see patterns and are (hopefully) much easier to understand than a bunch of numbers. \n",
    "- To maximise the impact of your figures, you should make sure that they are\n",
    "    * **easy to understand** \n",
    "    * **informative **\n",
    "    * **attractive & eye catching**"
   ]
  },
  {
   "cell_type": "markdown",
   "metadata": {
    "slideshow": {
     "slide_type": "subslide"
    }
   },
   "source": [
    "![Defaults vs tweaked](../images/journal.pcbi.1003833.g004.png)\n",
    "##### Matplotlib defaults vs informative settings"
   ]
  },
  {
   "cell_type": "markdown",
   "metadata": {
    "slideshow": {
     "slide_type": "subslide"
    }
   },
   "source": [
    "### Presenting data fairly\n",
    "\n",
    "The way that data is presented has a **huge impact** on how it is interpreted by the reader"
   ]
  },
  {
   "cell_type": "markdown",
   "metadata": {
    "slideshow": {
     "slide_type": "subslide"
    }
   },
   "source": [
    "<center>![Spot the mistake...](http://68.media.tumblr.com/9690a36c2860b2cca759e81c056ed948/tumblr_onc2gy3o0v1sgh0voo1_1280.png)</center>"
   ]
  },
  {
   "cell_type": "markdown",
   "metadata": {
    "slideshow": {
     "slide_type": "subslide"
    }
   },
   "source": [
    "<center>![Daily Fail](http://i.dailymail.co.uk/i/pix/2017/02/22/11/3D851AC500000578-0-image-a-2_1487761593852.jpg)</center>\n",
    "##### From the [Daily Mail...](http://www.dailymail.co.uk/news/article-4248690/Economy-grew-0-7-final-three-months-2016.html)"
   ]
  },
  {
   "cell_type": "markdown",
   "metadata": {
    "slideshow": {
     "slide_type": "subslide"
    }
   },
   "source": [
    "<center>![Try a scatter next time](http://68.media.tumblr.com/c1100353d116fc246f53515ad35ae969/tumblr_ojmy4cC94j1sgh0voo1_1280.jpg)</center>"
   ]
  },
  {
   "cell_type": "markdown",
   "metadata": {
    "slideshow": {
     "slide_type": "subslide"
    }
   },
   "source": [
    "### Beyond matplotlib\n",
    "\n",
    "- `Matplotlib` is extremely powerful, but often takes a lot of work to make good plots \n",
    "- There are many packages that extend `matplotlib`'s capabilities, allowing you to make better looking plots with less work\n",
    "- **Interactive plots** can be a much more powerful way to present data than traditional static plots\n",
    "    * Libraries such as `bokeh` and `plotly` allow easy generation of such plots"
   ]
  }
 ],
 "metadata": {
  "celltoolbar": "Slideshow",
  "kernelspec": {
   "display_name": "Python 3",
   "language": "python",
   "name": "python3"
  },
  "language_info": {
   "codemirror_mode": {
    "name": "ipython",
    "version": 3
   },
   "file_extension": ".py",
   "mimetype": "text/x-python",
   "name": "python",
   "nbconvert_exporter": "python",
   "pygments_lexer": "ipython3",
   "version": "3.6.1"
  },
  "livereveal": {
   "start_slideshow_at": "selected"
  }
 },
 "nbformat": 4,
 "nbformat_minor": 2
}
