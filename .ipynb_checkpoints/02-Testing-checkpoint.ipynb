{
 "cells": [
  {
   "cell_type": "code",
   "execution_count": 1,
   "metadata": {
    "collapsed": false,
    "deletable": true,
    "editable": true
   },
   "outputs": [
    {
     "data": {
      "text/html": [
       "<link href='http://fonts.googleapis.com/css?family=Open+Sans:100,300,400,500,700,800,900,100italic,300italic,400italic,500italic,700italic,800italic,900italic' rel='stylesheet' type='text/css'>\n",
       "<link href='http://fonts.googleapis.com/css?family=Merriweather:400,700,400italic' rel='stylesheet' type='text/css'>\n",
       "<link href='http://fonts.googleapis.com/css?family=Inconsolata' rel='stylesheet' type='text/css'>\n",
       "<style>\n",
       "\n",
       "@font-face {\n",
       "    font-family: \"Computer Modern\";\n",
       "    src: url('http://mirrors.ctan.org/fonts/cm-unicode/fonts/otf/cmunss.otf');\n",
       "}\n",
       "\n",
       "#notebook_panel { /* main background */\n",
       "    background: rgb(245,245,245);\n",
       "}\n",
       "\n",
       "div.cell { /* set cell width */\n",
       "    width: 75em;\n",
       "}\n",
       "\n",
       "div #notebook { /* centre the content */\n",
       "    background: #fff; /* white background for content */\n",
       "    width: 80em;\n",
       "    margin: auto;\n",
       "    padding-left: 0em;\n",
       "}\n",
       "\n",
       "#notebook li { /* More space between bullet points */\n",
       "margin-top:0.8em;\n",
       "}\n",
       "\n",
       "/* draw border around running cells */\n",
       "div.cell.border-box-sizing.code_cell.running {\n",
       "    border: 1px solid #111;\n",
       "}\n",
       "\n",
       "/* Put a solid color box around each cell and its output, visually linking them*/\n",
       "div.cell.code_cell {\n",
       "    /*font-family: 'Inconsolata', monospace;*/\n",
       "    background-color: rgb(256,256,256);\n",
       "    border-radius: 0px;\n",
       "    padding: 0.5em;\n",
       "    margin-left:1em;\n",
       "    margin-right:1em;\n",
       "    margin-top: 1em;\n",
       "}\n",
       "\n",
       "div.text_cell_render{\n",
       "    font-family: 'Open Sans', sans-serif;\n",
       "    line-height: 140%;\n",
       "    font-size: 110%;\n",
       "    font-weight: 400;\n",
       "    padding: 0.5em;\n",
       "    margin-left:1em;\n",
       "    margin-right:1em;\n",
       "}\n",
       "\n",
       ".text_cell_render pre {\n",
       "    white-space: pre;\n",
       "    white-space: pre-wrap;\n",
       "    white-space: -moz-pre-wrap;\n",
       "    white-space: -o-pre-wrap;\n",
       "    background-color: #f5f5f5;\n",
       "    padding: 0.5em;\n",
       "}\n",
       "\n",
       ".text_cell_render code {\n",
       "    font-size: 95%;\n",
       "    white-space: pre;\n",
       "    white-space: pre-wrap;\n",
       "    white-space: -moz-pre-wrap;\n",
       "    white-space: -o-pre-wrap;\n",
       "    background-color: #f5f5f5;\n",
       "}\n",
       "\n",
       "/* Formatting for header cells */\n",
       ".text_cell_render h1 {\n",
       "    font-family: 'Merriweather', serif;\n",
       "    font-style: regular;\n",
       "    font-weight: 400;\n",
       "    font-size: 3em;\n",
       "    line-height: 100%;\n",
       "    color: rgb(36,67,87);\n",
       "    margin-bottom: 0.5em;\n",
       "    margin-top: 0.5em;\n",
       "    display: block;\n",
       "}\n",
       ".text_cell_render h2 {\n",
       "    font-family: 'Merriweather', serif;\n",
       "    font-weight: 400;\n",
       "    font-size: 2.2em;\n",
       "    line-height: 100%;\n",
       "    color: rgb(36,67,87);\n",
       "    margin-bottom: 0.3em;\n",
       "    margin-top: 0.3em;\n",
       "    display: block;\n",
       "}\n",
       "\n",
       ".text_cell_render h3 {\n",
       "    font-family: 'Merriweather', serif;\n",
       "    margin-top:1em;\n",
       "\tfont-size: 1.6em;\n",
       "    font-weight: 400;\n",
       "    margin-bottom: 0.3em;\n",
       "    font-style: regular;\n",
       "    color: rgb(85, 111, 127);\n",
       "}\n",
       "\n",
       ".text_cell_render h4 {\n",
       "    font-family: 'Inconsolata', monospace;\n",
       "    /*font-family: 'Merriweather', serif;*/\n",
       "    font-size: 1.3em;\n",
       "    margin-top: 0.3em;\n",
       "    margin-bottom: 0.5em;\n",
       "    font-style: regular;\n",
       "    color: rgb(85, 111, 127);\n",
       "}\n",
       "\n",
       ".text_cell_render h5 {  /*Captions*/\n",
       "    font-family: 'Merriweather', serif;\n",
       "    font-weight: 400;\n",
       "    font-size: 1em;\n",
       "    color: rgb(85, 111, 127);\n",
       "    font-style: regular;\n",
       "    margin-bottom: .1em;\n",
       "    margin-top: 0.8em;\n",
       "    display: block;\n",
       "    text-align: center;\n",
       "}\n",
       "\n",
       ".text_cell_render h6 { /*use this for copyright note*/\n",
       "    font-family: 'Inconsolata', sans-serif;\n",
       "    font-weight: 300;\n",
       "    font-size: 9pt;\n",
       "    line-height: 100%;\n",
       "    color: grey;\n",
       "    margin-bottom: 1px;\n",
       "    margin-top: 1px;\n",
       "}\n",
       "\n",
       "img {\n",
       "    margin-left: auto;\n",
       "    margin-right: auto;\n",
       "}\n",
       "\n",
       "/*.CodeMirror{\n",
       "        font-size: 120%;\n",
       "}*/\n",
       "\n",
       "</style>\n",
       "<script>\n",
       "    MathJax.Hub.Config({\n",
       "                        TeX: {\n",
       "                           extensions: [\"AMSmath.js\"],\n",
       "                           equationNumbers: { autoNumber: \"AMS\", useLabelIds: true}\n",
       "                           },\n",
       "                tex2jax: {\n",
       "                    inlineMath: [ ['$','$'], [\"\\\\(\",\"\\\\)\"] ],\n",
       "                    displayMath: [ ['$$','$$'], [\"\\\\[\",\"\\\\]\"] ]\n",
       "                },\n",
       "                displayAlign: 'center', // Change this to 'center' to center equations.\n",
       "                \"HTML-CSS\": {\n",
       "                    styles: {'.MathJax_Display': {\"margin\": 4}}\n",
       "                }\n",
       "        });\n",
       "</script>\n"
      ],
      "text/plain": [
       "<IPython.core.display.HTML object>"
      ]
     },
     "execution_count": 1,
     "metadata": {},
     "output_type": "execute_result"
    }
   ],
   "source": [
    "from IPython.core.display import HTML\n",
    "css_file = \"./notebook_style.css\"\n",
    "HTML(open(css_file, 'r').read())"
   ]
  },
  {
   "cell_type": "markdown",
   "metadata": {
    "deletable": true,
    "editable": true,
    "slideshow": {
     "slide_type": "slide"
    }
   },
   "source": [
    "# 2. Testing Scientific Codes\n",
    "\n",
    "- [When should I test?](#When-should-I-test?)\n",
    "- [Effective testing](#Effective-testing)\n",
    "    * [Unit tests](#Unit-tests)\n",
    "    * [Integration tests](#Integration-tests)\n",
    "    * [Convergence tests](#Convergence-tests)\n",
    "    * [Regression tests](#Regression-tests)\n",
    "    * [Test driven development](#Test-driven-development)\n",
    "- [Common problems and how to solve them](#Common-problems-and-how-to-solve-them)\n",
    "    * [Randomness](#My-code-has-some-randomness-and-so-its-output-changes-every-time-I-run-it---what-can-I-test-for?)\n",
    "    * [Unknown solutions](#I-don%27t-know-what-the-correct-solution-should-be)\n",
    "    * [Building on other people's code](#I-didn%27t-write-most-of-the-code---how-do-I-know-that-the-bit-I-wrote-works?)\n",
    "    * [Numerical error](#I-know-there-is-some-numerical-error-in-my-code---how-can-I-test-my-code-is-correct-up-to-this-error?)\n",
    "- [Further reading](#Further-reading)"
   ]
  },
  {
   "cell_type": "code",
   "execution_count": 3,
   "metadata": {
    "collapsed": true,
    "deletable": true,
    "editable": true
   },
   "outputs": [],
   "source": [
    "import numpy\n",
    "from numpy.random import rand\n",
    "import matplotlib.pyplot as plt\n",
    "%matplotlib inline\n",
    "plt.rcParams.update({'font.size': 18})\n",
    "from scipy.integrate import quad\n",
    "import unittest"
   ]
  },
  {
   "cell_type": "markdown",
   "metadata": {
    "deletable": true,
    "editable": true,
    "slideshow": {
     "slide_type": "slide"
    }
   },
   "source": [
    "In the experimental sciences, new theories are developed by applying the scientific method. This involves carrying out tests to ensure that results are accurate, reproducible and reliable. The experimental setup will be tested in order to show that it is working as designed and so as to eliminate or quantify any systematic errors. A result will not be trusted unless the experiment itself has been carried out to a suitable standard. \n",
    "\n",
    "In computational science, we should apply the same principles to our code. A result should only be trusted if the code that has produced it has undergone rigorous testing which demonstrates that it is working as intended and that any limitations of the code (e.g. numerical errors) are understood and quantified. \n",
    "\n",
    "Unfortunately, testing scientific codes can be quite challenging. By their very nature, they are often built in order to investigate systems where the behaviour is to some extent unknown. They can be very complex, often built over a number of years (or even decades!) with contributions from a vast number of people. However, even for the most complicated of codes there are a number of different types of tests that we can apply in order for us to build robust, reliable code whose results can be trusted. \n",
    "\n"
   ]
  },
  {
   "cell_type": "markdown",
   "metadata": {
    "deletable": true,
    "editable": true,
    "slideshow": {
     "slide_type": "slide"
    }
   },
   "source": [
    "![Good code](https://imgs.xkcd.com/comics/good_code.png )\n",
    "##### Writing good code is hard - [xkcd](https://xkcd.com/844/)"
   ]
  },
  {
   "cell_type": "markdown",
   "metadata": {
    "deletable": true,
    "editable": true,
    "slideshow": {
     "slide_type": "slide"
    }
   },
   "source": [
    "## When should I test?\n",
    "\n",
    "### Always and often\n",
    "\n",
    "The earlier you start testing the better, as it will be possible to catch bugs as they develop and before they become too entrenched in the code. Once written, you should then try and execute tests every time changes are made. Continuous integration (see below) is a useful tool to use to make sure that tests are run frequently - once the tests are written and the CI setup, they can then be forgetten about to a certain extent, safe in the knowledge that if any bugs are introduced in changes to the code, they should be caught.\n",
    "\n",
    "**However**, it is important to review your tests regularly. In code that is being actively developed, tests must be amended and new tests written so as to make sure that new features are also tested. Regression tests are useful here to test that changes to the code improve its performance rather than making it worse. Code coverage is a useful tool to make sure that all code is being tested. It's all very well having a testing suite, but if only 20% of the code has been tested, you still cannot trust that the other 80% of the code is producing reliable results. "
   ]
  },
  {
   "cell_type": "markdown",
   "metadata": {
    "deletable": true,
    "editable": true,
    "slideshow": {
     "slide_type": "subslide"
    }
   },
   "source": [
    "## Effective testing\n",
    "\n",
    "In order to have an effective set of tests, it's necessary to make sure that the entire parameter space is tested, not just one or two nice cases. Of particular importance are edge and corner cases. If the code needs to run over a set of parameters, then edge cases are those which are at the beginning and end of this range. A corner case is then where one or more edge cases are combined. Such cases tend to be where errors most often arise, as often special code is required to deal with boundary values.\n",
    "\n",
    "In the code below, we demonstrate the importance of testing edge cases. The code takes a vector $\\mathbf{v}$ and normalises it $\\hat{\\mathbf{v}} = \\frac{\\mathbf{v} }{ |\\mathbf{v}|}$. We see that if the code is run for the vector $(0,0)$, a `RuntimeWarning` is raised as the function is attempting to divide by zero. "
   ]
  },
  {
   "cell_type": "code",
   "execution_count": 4,
   "metadata": {
    "collapsed": true,
    "deletable": true,
    "editable": true
   },
   "outputs": [],
   "source": [
    "def normalise(v):\n",
    "    norm = numpy.sqrt(numpy.sum(v**2))\n",
    "    \n",
    "    return v / norm"
   ]
  },
  {
   "cell_type": "code",
   "execution_count": 5,
   "metadata": {
    "collapsed": false,
    "deletable": true,
    "editable": true
   },
   "outputs": [
    {
     "name": "stderr",
     "output_type": "stream",
     "text": [
      "/home/alice/anaconda3/lib/python3.6/site-packages/ipykernel_launcher.py:4: RuntimeWarning: invalid value encountered in true_divide\n",
      "  after removing the cwd from sys.path.\n"
     ]
    },
    {
     "data": {
      "text/plain": [
       "array([ nan,  nan])"
      ]
     },
     "execution_count": 5,
     "metadata": {},
     "output_type": "execute_result"
    }
   ],
   "source": [
    "normalise(numpy.array([0,0]))"
   ]
  },
  {
   "cell_type": "markdown",
   "metadata": {
    "deletable": true,
    "editable": true
   },
   "source": [
    "We therefore need to amend our function for the case where the norm of the vector is zero. A possible solution is the function below."
   ]
  },
  {
   "cell_type": "code",
   "execution_count": 6,
   "metadata": {
    "collapsed": true,
    "deletable": true,
    "editable": true
   },
   "outputs": [],
   "source": [
    "def improved_normalise(v):\n",
    "    norm = numpy.sqrt(numpy.sum(v**2))\n",
    "    \n",
    "    if norm == 0.:\n",
    "        return v\n",
    "    \n",
    "    return v / norm"
   ]
  },
  {
   "cell_type": "code",
   "execution_count": 7,
   "metadata": {
    "collapsed": false,
    "deletable": true,
    "editable": true
   },
   "outputs": [
    {
     "data": {
      "text/plain": [
       "array([0, 0])"
      ]
     },
     "execution_count": 7,
     "metadata": {},
     "output_type": "execute_result"
    }
   ],
   "source": [
    "improved_normalise(numpy.array([0,0]))"
   ]
  },
  {
   "cell_type": "markdown",
   "metadata": {
    "deletable": true,
    "editable": true
   },
   "source": [
    "Our improved function now tests to see if the norm is zero - if so, it returns the original vector rather than attempting to divide by zero. There are often multiple ways to deal with invalid data in a program - the choice of which method to use depends on which is most appropriate for your particular problem. An alternative implementation of the normalise function would be to use [*exception handling*](https://docs.python.org/3/tutorial/errors.html#exceptions). Exceptions are errors which are detected during the execution of the program (rather than syntax or parsing errors which are detected by the parser before the program is run). You have most likely come across some of python's built in exceptions before, e.g. `FloatingPointError`, `IOError`, `ZeroDivisionError`. It's also possible for the user to define their own exceptions. The default behaviour when an exception is detected is for the program to exit (the exception is an *unhandled error*), however we can instead choose to *handle* the exception using a `try...except` block.\n",
    "\n",
    "By default, numpy sets floating-point errors to be raised as *warnings* rather than exceptions. The first line of the code below turns this behaviour off."
   ]
  },
  {
   "cell_type": "code",
   "execution_count": 34,
   "metadata": {
    "collapsed": true,
    "deletable": true,
    "editable": true
   },
   "outputs": [],
   "source": [
    "numpy.seterr(invalid='raise')\n",
    "\n",
    "def exception_normalise(v):\n",
    "    \n",
    "    try:\n",
    "        norm = numpy.sqrt(numpy.sum(v**2))\n",
    "        vhat = v / norm\n",
    "    except FloatingPointError:\n",
    "        print('Norm of vector is zero, returning original vector')\n",
    "        vhat = v\n",
    "        \n",
    "    return vhat"
   ]
  },
  {
   "cell_type": "code",
   "execution_count": 35,
   "metadata": {
    "collapsed": false,
    "deletable": true,
    "editable": true
   },
   "outputs": [
    {
     "name": "stdout",
     "output_type": "stream",
     "text": [
      "Norm of vector is zero, returning original vector\n"
     ]
    },
    {
     "data": {
      "text/plain": [
       "array([0, 0])"
      ]
     },
     "execution_count": 35,
     "metadata": {},
     "output_type": "execute_result"
    }
   ],
   "source": [
    "exception_normalise(numpy.array([0,0]))"
   ]
  },
  {
   "cell_type": "markdown",
   "metadata": {
    "deletable": true,
    "editable": true
   },
   "source": [
    "It is also important to check that the code breaks as expected. If the code input is garbage but it still manages to run as normal, that is not good behaviour and suggests some data validation of input parameters is needed. For example, let's  try to run our improved normalisation function on a string:"
   ]
  },
  {
   "cell_type": "code",
   "execution_count": 33,
   "metadata": {
    "collapsed": false,
    "deletable": true,
    "editable": true
   },
   "outputs": [
    {
     "ename": "TypeError",
     "evalue": "unsupported operand type(s) for ** or pow(): 'str' and 'int'",
     "output_type": "error",
     "traceback": [
      "\u001b[0;31m---------------------------------------------------------------------------\u001b[0m",
      "\u001b[0;31mTypeError\u001b[0m                                 Traceback (most recent call last)",
      "\u001b[0;32m<ipython-input-33-f65095dab411>\u001b[0m in \u001b[0;36m<module>\u001b[0;34m()\u001b[0m\n\u001b[0;32m----> 1\u001b[0;31m \u001b[0mexception_normalise\u001b[0m\u001b[0;34m(\u001b[0m\u001b[0;34m\"I am a string\"\u001b[0m\u001b[0;34m)\u001b[0m\u001b[0;34m\u001b[0m\u001b[0m\n\u001b[0m",
      "\u001b[0;32m<ipython-input-31-5fe9991cda88>\u001b[0m in \u001b[0;36mexception_normalise\u001b[0;34m(v)\u001b[0m\n\u001b[1;32m      2\u001b[0m \u001b[0;34m\u001b[0m\u001b[0m\n\u001b[1;32m      3\u001b[0m \u001b[0;32mdef\u001b[0m \u001b[0mexception_normalise\u001b[0m\u001b[0;34m(\u001b[0m\u001b[0mv\u001b[0m\u001b[0;34m)\u001b[0m\u001b[0;34m:\u001b[0m\u001b[0;34m\u001b[0m\u001b[0m\n\u001b[0;32m----> 4\u001b[0;31m     \u001b[0mnorm\u001b[0m \u001b[0;34m=\u001b[0m \u001b[0mnumpy\u001b[0m\u001b[0;34m.\u001b[0m\u001b[0msqrt\u001b[0m\u001b[0;34m(\u001b[0m\u001b[0mnumpy\u001b[0m\u001b[0;34m.\u001b[0m\u001b[0msum\u001b[0m\u001b[0;34m(\u001b[0m\u001b[0mv\u001b[0m\u001b[0;34m**\u001b[0m\u001b[0;36m2\u001b[0m\u001b[0;34m)\u001b[0m\u001b[0;34m)\u001b[0m\u001b[0;34m\u001b[0m\u001b[0m\n\u001b[0m\u001b[1;32m      5\u001b[0m \u001b[0;34m\u001b[0m\u001b[0m\n\u001b[1;32m      6\u001b[0m     \u001b[0;32mtry\u001b[0m\u001b[0;34m:\u001b[0m\u001b[0;34m\u001b[0m\u001b[0m\n",
      "\u001b[0;31mTypeError\u001b[0m: unsupported operand type(s) for ** or pow(): 'str' and 'int'"
     ]
    }
   ],
   "source": [
    "exception_normalise(\"I am a string\")"
   ]
  },
  {
   "cell_type": "markdown",
   "metadata": {
    "deletable": true,
    "editable": true
   },
   "source": [
    "Python correctly spots that it cannot perform the power operation on a string and raises a `TypeError` exception. However, it would probably be more useful to implement some kind of type checking of the function inputs before this (e.g. using `numpy.isnumeric`), and/or make sure that the code that calls this function is capable of catching such exceptions. For example, we may decide that if data of an invalid type is passed to the function, it should return 0:"
   ]
  },
  {
   "cell_type": "code",
   "execution_count": 36,
   "metadata": {
    "collapsed": true,
    "deletable": true,
    "editable": true
   },
   "outputs": [],
   "source": [
    "def exception_normalise(v):\n",
    "    \n",
    "    try:\n",
    "        norm = numpy.sqrt(numpy.sum(v**2))\n",
    "        vhat = v / norm\n",
    "    except FloatingPointError:\n",
    "        print('Norm of vector is zero, returning original vector')\n",
    "        vhat = v\n",
    "    except TypeError:\n",
    "        print('Invalid input data, returning 0')\n",
    "        vhat = 0\n",
    "        \n",
    "    return vhat"
   ]
  },
  {
   "cell_type": "code",
   "execution_count": 37,
   "metadata": {
    "collapsed": false,
    "deletable": true,
    "editable": true
   },
   "outputs": [
    {
     "name": "stdout",
     "output_type": "stream",
     "text": [
      "Invalid input data, returning 0\n"
     ]
    },
    {
     "data": {
      "text/plain": [
       "0"
      ]
     },
     "execution_count": 37,
     "metadata": {},
     "output_type": "execute_result"
    }
   ],
   "source": [
    "exception_normalise(\"I am a string\")"
   ]
  },
  {
   "cell_type": "markdown",
   "metadata": {
    "deletable": true,
    "editable": true
   },
   "source": [
    "### Unit tests\n",
    "\n",
    "For complicated codes made up of many functions, it is useful to write a serious of tests that check small parts of the code - *units* - at a time. This makes it easier to track down the exact location of bugs. These units may be individual functions or groups of shorter functions. Unit tests therefore encourage good coding practice, as they require code to be modular. \n",
    "\n",
    "In the example below, we have three (very simple) functions: `squared` which returns the square of its input, `add_2` which adds 2 to its input and `square_plus_2` which calls the two previous functions to return $x^2+2$. To test this code, we could therefore write unit tests for the first two functions to check they are working correctly. We've used the `unittest` module here as it allows us to test that functions correctly raise exceptions when given invalid data."
   ]
  },
  {
   "cell_type": "code",
   "execution_count": 9,
   "metadata": {
    "collapsed": true,
    "deletable": true,
    "editable": true
   },
   "outputs": [],
   "source": [
    "def squared(x):\n",
    "    return x*x\n",
    "\n",
    "def add_2(x):\n",
    "    return x + 2\n",
    "\n",
    "def square_plus_2(x):\n",
    "    return add_2(squared(x))"
   ]
  },
  {
   "cell_type": "code",
   "execution_count": 10,
   "metadata": {
    "collapsed": true,
    "deletable": true,
    "editable": true
   },
   "outputs": [],
   "source": [
    "class test_units(unittest.TestCase):\n",
    "    \n",
    "    def test_squared(self):\n",
    "        self.assertTrue(squared(-5) == 25)\n",
    "        self.assertTrue(squared(1e5) == 1e10)\n",
    "        self.assertRaises(TypeError, squared, \"A string\")\n",
    "        \n",
    "    def test_add_2(self):\n",
    "        self.assertTrue(add_2(-5) == -3)\n",
    "        self.assertTrue(add_2(1e5) == 100002)\n",
    "        self.assertRaises(TypeError, add_2, \"A string\")\n",
    "    \n",
    "test_units().test_squared()\n",
    "test_units().test_add_2()"
   ]
  },
  {
   "cell_type": "markdown",
   "metadata": {
    "deletable": true,
    "editable": true
   },
   "source": [
    "### Integration tests\n",
    "\n",
    "Once you've written your unit tests and are pretty confident that individual parts of the code work on their own, you than need to verify that these different parts work together. To see why this is needed, imagine you were asked to build a car, despite only having a vague idea of how everything fits together. You've been given all the different parts (the engine, the wheels, the steering wheel...) - these have all previously undergone rigorous testing and you have been assured that they all work fine. You put them all together to the best of your ability, but unfortunately cannot get the car to work. Much as with your code, despite the individual parts working, this is no guarantee that they will work when put together.\n",
    "\n",
    "In the above example, we can add an integration test by writing a test for `square_plus_2` - this calls the other two functions, so we'll test that it does this properly."
   ]
  },
  {
   "cell_type": "code",
   "execution_count": 11,
   "metadata": {
    "collapsed": true,
    "deletable": true,
    "editable": true
   },
   "outputs": [],
   "source": [
    "class test_integration(unittest.TestCase):\n",
    "    \n",
    "    def test_square_plus_2(self):\n",
    "        self.assertTrue(square_plus_2(-5) == 27)\n",
    "        self.assertTrue(square_plus_2(1e5) == 10000000002)\n",
    "        self.assertRaises(TypeError, square_plus_2, \"A string\")\n",
    "        \n",
    "test_integration().test_square_plus_2()"
   ]
  },
  {
   "cell_type": "markdown",
   "metadata": {
    "deletable": true,
    "editable": true
   },
   "source": [
    "As we'll see below, integration tests can be difficult to design. They can encompass a small section of the code, e.g. to check that one function correctly calls another, all the way up to the entire code. Because they can involve many different functions, they are often a lot more complex than unit tests. "
   ]
  },
  {
   "cell_type": "markdown",
   "metadata": {
    "deletable": true,
    "editable": true
   },
   "source": [
    "### Convergence tests\n",
    "\n",
    "Often we want to calculate a solution on some kind of grid. The solution we find is a discretised approximation of the exact continuous solution. As the resolution of the grid increases, the solution should approach exact solution. Convergence tests are a way of checking this. The solution is calculated for grids of various resolutions. If the code is working correctly, the error of the solution should decrease with increasing resolution approximately at an order that depends on the accuracy of the algorithm (until the error becomes so small it then becomes dominated by floating point errors). "
   ]
  },
  {
   "cell_type": "markdown",
   "metadata": {
    "deletable": true,
    "editable": true
   },
   "source": [
    "In the example below, we will demonstrate this by using the trapezium rule to approximate the integral of $\\sin (x)$ with various different step sizes, $h$. By comparing the calculated errors to a line of gradient $h^2$, it can be seen that the numerical approximation is converging as expected at $O(h^2)$."
   ]
  },
  {
   "cell_type": "code",
   "execution_count": 12,
   "metadata": {
    "collapsed": false,
    "deletable": true,
    "editable": true
   },
   "outputs": [
    {
     "data": {
      "image/png": "[encoded data removed]",
      "text/plain": [
       "<matplotlib.figure.Figure at 0x7f225d468160>"
      ]
     },
     "metadata": {},
     "output_type": "display_data"
    }
   ],
   "source": [
    "hs = numpy.array([1. / (4. * 2.**n) for n in range(8)])\n",
    "errors = numpy.zeros_like(hs)\n",
    "\n",
    "for i, h in enumerate(hs):\n",
    "    xs = numpy.arange(0., 1.+h, h)\n",
    "    ys = numpy.sin(xs)\n",
    "    \n",
    "    # use trapezium rule to approximate integral\n",
    "    integral_approx = sum((xs[1:] - xs[:-1]) * 0.5 * (ys[1:] + ys[:-1]))\n",
    "    errors[i] = -numpy.cos(1) + numpy.cos(0) - integral_approx\n",
    "    \n",
    "plt.loglog(hs, errors, 'x', label='Error')\n",
    "plt.plot(hs, 0.1*hs**2, label=r'$h^2$')\n",
    "plt.xlabel(r'$h$')\n",
    "plt.ylabel('error')\n",
    "plt.legend(loc='center left', bbox_to_anchor=[1.0, 0.5])\n",
    "plt.show()"
   ]
  },
  {
   "cell_type": "markdown",
   "metadata": {
    "deletable": true,
    "editable": true
   },
   "source": [
    "### Regression tests\n",
    "\n",
    "When building your code, generally you'll be aiming for its performance to improve with time. Results should get more accurate or, at the very least, should not deteriorate. Regression tests are a way to check this. Multiple versions of the code are run and the outputs compared. If the output has changed such that it is significantly different from the previous output, the test fails. Such tests can help catch bugs that other types of tests may not, and can help ensure the project remains backwards-compatible for such cases where that is important. "
   ]
  },
  {
   "cell_type": "markdown",
   "metadata": {
    "deletable": true,
    "editable": true
   },
   "source": [
    "### Test driven development\n",
    "\n",
    "Above we said that it's best to start testing your code early on in the development of your code. Test driven development takes this to the extreme: tests are written *before* you even write a line of the main code. The tests then take the form of a sort of 'product specification', providing a set of tests for things that you aim for your finished code to be able to do. In order to be able to write such tests, you need to have a good idea of the structure your code will have, so test driven development can be useful in that it forces you to plan out your code before you start writing it. \n",
    "\n",
    "Unfortunately, as we've seen, scientific codes can be difficult to test, often having unpredictable output. They often implement novel techniques, so it can be hard to plan what the final code will look like. This means that test driven development can be harder to successfully implement for scientific codes."
   ]
  },
  {
   "cell_type": "markdown",
   "metadata": {
    "deletable": true,
    "editable": true
   },
   "source": [
    "## Common problems and how to solve them\n",
    "\n",
    "### My code has some randomness and so its output changes every time I run it - what can I test for?\n",
    "\n",
    "In time evolution problems, it may be that whilst the output at any individual timestep can be somewhat random, the behaviour averaged over a number of timesteps is to some extent known. Tests can therefore be written to check that this is the case. In other problems, it may be more useful to test the average behaviour across the entire domain or sections of the domain. Even if the behaviour is completely random and so it's not possible to take any meaninful averages, the chances are that it should still be within a set of known values - we can therefore write tests that check the data is within these limits. Another strategy is to try to write tests that isolate the random parts so that you can check the non-random parts of the code work. If you are using a random number generator, it can be possible to eliminate the non-determinism by testing using a fixed seed value for the generator. \n",
    "\n",
    "In the code below, we generate an array of random data and apply some function to it before plotting the results. It can be seen that the output is different every time the code is run."
   ]
  },
  {
   "cell_type": "code",
   "execution_count": 57,
   "metadata": {
    "collapsed": false,
    "deletable": true,
    "editable": true
   },
   "outputs": [
    {
     "data": {
      "image/png": "[encoded data removed]",
      "text/plain": [
       "<matplotlib.figure.Figure at 0x7f222d5b47b8>"
      ]
     },
     "metadata": {},
     "output_type": "display_data"
    }
   ],
   "source": [
    "data = rand(80,80)\n",
    "\n",
    "def func(a):\n",
    "    return a**2 * numpy.sin(a)\n",
    "\n",
    "output = func(data)\n",
    "\n",
    "plt.imshow(output)\n",
    "plt.colorbar()\n",
    "plt.show()"
   ]
  },
  {
   "cell_type": "markdown",
   "metadata": {
    "deletable": true,
    "editable": true
   },
   "source": [
    "The output of this code changes every time the code is run, however we can still write some tests for it. We know that all values in the output array must be $0\\leq x \\leq 1$. In some circumstances, such as in this case, we may know the statistical distribution of the random data. We can therefore calculate what the average output value should be and compare this to our code's output. In our case, the data is generated from a uniform distribution of numbers between 0 and 1, so the average value of the output is given by $\\int_0^1 f(x) \\,dx \\simeq 0.22$"
   ]
  },
  {
   "cell_type": "code",
   "execution_count": 58,
   "metadata": {
    "collapsed": false,
    "deletable": true,
    "editable": true
   },
   "outputs": [
    {
     "name": "stdout",
     "output_type": "stream",
     "text": [
      "Function output within correct limits\n",
      "Function output has correct average\n"
     ]
    }
   ],
   "source": [
    "def test_limits(a):\n",
    "    if numpy.all(a >= 0.) and numpy.all(a <= 1.):\n",
    "        return True\n",
    "    return False\n",
    "\n",
    "def test_average(a):\n",
    "    if numpy.isclose(numpy.average(a), 0.223, rtol=5.e-2):\n",
    "        return True\n",
    "    return False\n",
    "\n",
    "\n",
    "\n",
    "if test_limits(output):\n",
    "    print('Function output within correct limits')\n",
    "else:\n",
    "    print('Function output is not within correct limits')\n",
    "\n",
    "if test_average(output):\n",
    "    print('Function output has correct average')\n",
    "else:\n",
    "    print('Function output does not have correct average')"
   ]
  },
  {
   "cell_type": "markdown",
   "metadata": {
    "deletable": true,
    "editable": true
   },
   "source": [
    "### I don't know what the correct solution should be\n",
    "\n",
    "In experimental science, the experimental setup will be tested using a control. This is where the experiment is run using a set of input data for which the outcome is known, so that any bugs in the apparatus or systematic errors can be identified. In computational science, there is often a simple system whose behaviour is known which can be used to test the code. E.g. in time evolution problems, a system which is initially static should remain that way. If this is not the case, then this indicates there is something seriously wrong with the code! In physics, we can also check for symmetries of the system (e.g. rotational symmetry, translation symmetry, reflection symmetry). There are also often conserved quantities (e.g. mass, energy, charge) that we can check the code conserves.\n",
    "\n",
    "In the below example, we look at a black box function - `scipy.integrate.quad`. Here, this function will stand in for a bit of code that we have written and want to test. Say we wish to use `quad` to calculate the integral of some complicated function and we have little idea what the solution will be. Before we use it on the complicated function, we will test that it behaves correctly for a function whose integral we already know: $f(x) = \\sin(x)$."
   ]
  },
  {
   "cell_type": "code",
   "execution_count": 15,
   "metadata": {
    "collapsed": false,
    "deletable": true,
    "editable": true
   },
   "outputs": [
    {
     "data": {
      "image/png": "[encoded data removed]",
      "text/plain": [
       "<matplotlib.figure.Figure at 0x7f222d2d3470>"
      ]
     },
     "metadata": {},
     "output_type": "display_data"
    }
   ],
   "source": [
    "xs = numpy.linspace(0.0, 2.0 * numpy.pi)\n",
    "\n",
    "integrals = numpy.zeros_like(xs) \n",
    "\n",
    "for i in range(len(xs)):\n",
    "    integrals[i] = quad(numpy.sin, 0.0, xs[i])[0]\n",
    "\n",
    "plt.plot(xs, -numpy.cos(xs)+1, '-', label=r'$\\int f(x)$')\n",
    "plt.plot(xs, integrals, 'x', label='quad')\n",
    "plt.legend(loc='center left', bbox_to_anchor=[1.0, 0.5])\n",
    "plt.show()"
   ]
  },
  {
   "cell_type": "markdown",
   "metadata": {
    "deletable": true,
    "editable": true
   },
   "source": [
    "As hoped, quad gives the correct solution: \n",
    "\n",
    "$$\n",
    "\\int^\\alpha_0 \\sin(x)\\, dx = -\\cos(\\alpha) + 1\n",
    "$$\n",
    "\n",
    "### I didn't write most of the code - how do I know that the bit I wrote works?\n",
    "\n",
    "Unit tests! If the original code can run in isolation, make sure that there are suitable tests which make sure that it works correctly. Any failures in subsequent tests that then incorporate your code will therefore only be the result of bugs in your code. Unit tests of individual functions in your code should also be used. "
   ]
  },
  {
   "cell_type": "markdown",
   "metadata": {
    "deletable": true,
    "editable": true
   },
   "source": [
    "### I know there is some numerical error in my code - how can I test my code is correct up to this error?\n",
    "\n",
    "In numerical calculations, there will always be some computational error that cannot be avoided. This can from the computer's floating point representation of numerical data or from the choice of algorithm used. It is often the case that we don't require our result to be 100% precise, but rather correct up to some tolerance. We can therefore build tests to reflect this. \n",
    "\n",
    "In python, we can use `numpy.isclose` and `numpy.allclose` to do this. In the example below, we take some data and add a small amount of random noise to it. This random noise is supposed to represent numerical errors that are introduced over the course of a simulation. If we test that the output array is equal to the original array, python correctly tells us that it is not. However, if we test that the output array is close to the original array, we find that this is true."
   ]
  },
  {
   "cell_type": "code",
   "execution_count": 16,
   "metadata": {
    "collapsed": false,
    "deletable": true,
    "editable": true
   },
   "outputs": [
    {
     "data": {
      "image/png": "[encoded data removed]",
      "text/plain": [
       "<matplotlib.figure.Figure at 0x7f222d2c87f0>"
      ]
     },
     "metadata": {},
     "output_type": "display_data"
    },
    {
     "name": "stdout",
     "output_type": "stream",
     "text": [
      "Noisey data is not exactly equal to initial data\n",
      "Noisey data is close to initial data\n"
     ]
    }
   ],
   "source": [
    "x = numpy.linspace(0, 2*numpy.pi, num=500)\n",
    "initial_data = x**2 * numpy.cos(5*x)\n",
    "\n",
    "# add noise \n",
    "noisey_data = initial_data + (rand(len(x)) - 0.5) * 4\n",
    "\n",
    "plt.plot(x, initial_data, label='initial data')\n",
    "plt.plot(x, noisey_data, label='noisey data')\n",
    "plt.legend(loc='center left', bbox_to_anchor=[1.0, 0.5])\n",
    "plt.xlim(x[0], x[-1])\n",
    "plt.show()\n",
    "\n",
    "if numpy.array_equal(initial_data, noisey_data):\n",
    "    print('Noisey data exactly equal to initial data')\n",
    "else:\n",
    "    print('Noisey data is not exactly equal to initial data')\n",
    "    \n",
    "if numpy.allclose(initial_data, noisey_data, atol=2):\n",
    "    print('Noisey data is close to initial data')\n",
    "else:\n",
    "    print('Noisey data is not close to initial data')"
   ]
  },
  {
   "cell_type": "markdown",
   "metadata": {
    "deletable": true,
    "editable": true
   },
   "source": [
    "Another tactic that can be used here is to employ convergence tests to make sure that the numerical error is decreasing with increasing resolution (at least until the point where this error becomes dominated by floating point erorrs). If you know that the algorithm you are using to solve the system is accurate to some order, your solution should converge at a rate close to this. If not, it is likely that you have made a mistake in your implementation of the algorithm."
   ]
  },
  {
   "cell_type": "markdown",
   "metadata": {
    "deletable": true,
    "editable": true
   },
   "source": [
    "## Further reading"
   ]
  },
  {
   "cell_type": "markdown",
   "metadata": {
    "collapsed": true,
    "deletable": true,
    "editable": true
   },
   "source": [
    "- Check out [this presentation](https://www.google.co.uk/url?sa=t&rct=j&q=&esrc=s&source=web&cd=4&ved=0ahUKEwjg64jtyM7UAhVkLcAKHftYDiwQFghJMAM&url=http%3A%2F%2Farchive.euroscipy.org%2Ffile%2F8962%2Fraw%2FEuroScipy_tutorial_2012.pdf&usg=AFQjCNG0K9lmRR5wUbn-8C4YToxMdklW0Q&sig2=BhwDp-UodcNOLsSufqKUhg&cad=rja) by Pietro Berkes from EuroScipy 2012 which gives a detailed demonstration of how to use the python `unittest` library and covers some advanced testing topics such as mocks and patches\n",
    "- [The design and use of reference data sets for testing scientific software](http://http.icsi.berkeley.edu/ftp/pub/speech/papers/wikipapers/cox_harris_testing_numerical_software.pdf), M. G. Cox and P. M. Harris - outlines the problems with testing scientific software and how you can go about creating suitable test data\n"
   ]
  }
 ],
 "metadata": {
  "anaconda-cloud": {},
  "kernelspec": {
   "display_name": "Python 3",
   "language": "python",
   "name": "python3"
  },
  "language_info": {
   "codemirror_mode": {
    "name": "ipython",
    "version": 3
   },
   "file_extension": ".py",
   "mimetype": "text/x-python",
   "name": "python",
   "nbconvert_exporter": "python",
   "pygments_lexer": "ipython3",
   "version": "3.6.0"
  },
  "toc": {
   "colors": {
    "hover_highlight": "#DAA520",
    "running_highlight": "#FF0000",
    "selected_highlight": "#FFD700"
   },
   "moveMenuLeft": true,
   "nav_menu": {
    "height": "297px",
    "width": "252px"
   },
   "navigate_menu": true,
   "number_sections": true,
   "sideBar": true,
   "threshold": 4,
   "toc_cell": false,
   "toc_section_display": "block",
   "toc_window_display": false
  }
 },
 "nbformat": 4,
 "nbformat_minor": 1
}
