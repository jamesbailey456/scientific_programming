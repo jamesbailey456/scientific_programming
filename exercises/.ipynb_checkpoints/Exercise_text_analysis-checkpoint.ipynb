{
 "cells": [
  {
   "cell_type": "code",
   "execution_count": 1,
   "metadata": {
    "collapsed": false,
    "deletable": true,
    "editable": true
   },
   "outputs": [
    {
     "data": {
      "text/html": [
       "<link href='http://fonts.googleapis.com/css?family=Open+Sans:100,300,400,500,700,800,900,100italic,300italic,400italic,500italic,700italic,800italic,900italic' rel='stylesheet' type='text/css'>\n",
       "<link href='http://fonts.googleapis.com/css?family=Merriweather:400,700,400italic' rel='stylesheet' type='text/css'>\n",
       "<link href='http://fonts.googleapis.com/css?family=Inconsolata' rel='stylesheet' type='text/css'>\n",
       "<style>\n",
       "\n",
       "@font-face {\n",
       "    font-family: \"Computer Modern\";\n",
       "    src: url('http://mirrors.ctan.org/fonts/cm-unicode/fonts/otf/cmunss.otf');\n",
       "}\n",
       "\n",
       "#notebook_panel { /* main background */\n",
       "    background: rgb(245,245,245);\n",
       "}\n",
       "\n",
       "div.cell { /* set cell width */\n",
       "    width: 75em;\n",
       "}\n",
       "\n",
       "div #notebook { /* centre the content */\n",
       "    background: #fff; /* white background for content */\n",
       "    width: 80em;\n",
       "    margin: auto;\n",
       "    padding-left: 0em;\n",
       "}\n",
       "\n",
       "#notebook li { /* More space between bullet points */\n",
       "margin-top:0.8em;\n",
       "}\n",
       "\n",
       "/* draw border around running cells */\n",
       "div.cell.border-box-sizing.code_cell.running {\n",
       "    border: 1px solid #111;\n",
       "}\n",
       "\n",
       "/* Put a solid color box around each cell and its output, visually linking them*/\n",
       "div.cell.code_cell {\n",
       "    /*font-family: 'Inconsolata', monospace;*/\n",
       "    background-color: rgb(256,256,256);\n",
       "    border-radius: 0px;\n",
       "    padding: 0.5em;\n",
       "    margin-left:1em;\n",
       "    margin-right:1em;\n",
       "    margin-top: 1em;\n",
       "}\n",
       "\n",
       "div.text_cell_render{\n",
       "    font-family: 'Open Sans', sans-serif;\n",
       "    line-height: 140%;\n",
       "    font-size: 110%;\n",
       "    font-weight: 400;\n",
       "    padding: 0.5em;\n",
       "    margin-left:1em;\n",
       "    margin-right:1em;\n",
       "}\n",
       "\n",
       ".text_cell_render pre {\n",
       "    white-space: pre;\n",
       "    white-space: pre-wrap;\n",
       "    white-space: -moz-pre-wrap;\n",
       "    white-space: -o-pre-wrap;\n",
       "    background-color: #f5f5f5;\n",
       "    padding: 0.5em;\n",
       "}\n",
       "\n",
       ".text_cell_render code {\n",
       "    font-size: 95%;\n",
       "    white-space: pre;\n",
       "    white-space: pre-wrap;\n",
       "    white-space: -moz-pre-wrap;\n",
       "    white-space: -o-pre-wrap;\n",
       "    background-color: #f5f5f5;\n",
       "}\n",
       "\n",
       "/* Formatting for header cells */\n",
       ".text_cell_render h1 {\n",
       "    font-family: 'Merriweather', serif;\n",
       "    font-style: regular;\n",
       "    font-weight: 400;\n",
       "    font-size: 3em;\n",
       "    line-height: 100%;\n",
       "    color: rgb(36,67,87);\n",
       "    margin-bottom: 0.5em;\n",
       "    margin-top: 0.5em;\n",
       "    display: block;\n",
       "}\n",
       ".text_cell_render h2 {\n",
       "    font-family: 'Merriweather', serif;\n",
       "    font-weight: 400;\n",
       "    font-size: 2.2em;\n",
       "    line-height: 100%;\n",
       "    color: rgb(36,67,87);\n",
       "    margin-bottom: 0.3em;\n",
       "    margin-top: 0.3em;\n",
       "    display: block;\n",
       "}\n",
       "\n",
       ".text_cell_render h3 {\n",
       "    font-family: 'Merriweather', serif;\n",
       "    margin-top:1em;\n",
       "\tfont-size: 1.6em;\n",
       "    font-weight: 400;\n",
       "    margin-bottom: 0.3em;\n",
       "    font-style: regular;\n",
       "    color: rgb(85, 111, 127);\n",
       "}\n",
       "\n",
       ".text_cell_render h4 {\n",
       "    font-family: 'Inconsolata', monospace;\n",
       "    /*font-family: 'Merriweather', serif;*/\n",
       "    font-size: 1.3em;\n",
       "    margin-top: 0.3em;\n",
       "    margin-bottom: 0.5em;\n",
       "    font-style: regular;\n",
       "    color: rgb(85, 111, 127);\n",
       "}\n",
       "\n",
       ".text_cell_render h5 {  /*Captions*/\n",
       "    font-family: 'Merriweather', serif;\n",
       "    font-weight: 400;\n",
       "    font-size: 1em;\n",
       "    color: rgb(85, 111, 127);\n",
       "    font-style: regular;\n",
       "    margin-bottom: .1em;\n",
       "    margin-top: 0.8em;\n",
       "    display: block;\n",
       "    text-align: center;\n",
       "}\n",
       "\n",
       ".text_cell_render h6 { /*use this for copyright note*/\n",
       "    font-family: 'Inconsolata', sans-serif;\n",
       "    font-weight: 300;\n",
       "    font-size: 9pt;\n",
       "    line-height: 100%;\n",
       "    color: grey;\n",
       "    margin-bottom: 1px;\n",
       "    margin-top: 1px;\n",
       "}\n",
       "\n",
       "img {\n",
       "    margin-left: auto;\n",
       "    margin-right: auto;\n",
       "}\n",
       "\n",
       "/*.CodeMirror{\n",
       "        font-size: 120%;\n",
       "}*/\n",
       "\n",
       "</style>\n",
       "<script>\n",
       "    MathJax.Hub.Config({\n",
       "                        TeX: {\n",
       "                           extensions: [\"AMSmath.js\"],\n",
       "                           equationNumbers: { autoNumber: \"AMS\", useLabelIds: true}\n",
       "                           },\n",
       "                tex2jax: {\n",
       "                    inlineMath: [ ['$','$'], [\"\\\\(\",\"\\\\)\"] ],\n",
       "                    displayMath: [ ['$$','$$'], [\"\\\\[\",\"\\\\]\"] ]\n",
       "                },\n",
       "                displayAlign: 'center', // Change this to 'center' to center equations.\n",
       "                \"HTML-CSS\": {\n",
       "                    styles: {'.MathJax_Display': {\"margin\": 4}}\n",
       "                }\n",
       "        });\n",
       "</script>\n"
      ],
      "text/plain": [
       "<IPython.core.display.HTML object>"
      ]
     },
     "execution_count": 1,
     "metadata": {},
     "output_type": "execute_result"
    }
   ],
   "source": [
    "from IPython.core.display import HTML\n",
    "css_file = \"../notebook_style.css\"\n",
    "HTML(open(css_file, 'r').read())"
   ]
  },
  {
   "cell_type": "markdown",
   "metadata": {
    "deletable": true,
    "editable": true
   },
   "source": [
    "# Text analysis\n",
    "\n",
    "In these exercises, we will look at a python class that performs a analysis on a given text. The code is called `n_grams.py` as one of its key functions searches for repeated *n-grams* in a text. An [n-gram](https://en.wikipedia.org/wiki/N-gram) is a sequence of n words. For example, in the sentence \n",
    "\n",
    "    The cow jumps over the moon\n",
    "    \n",
    "the 2-grams (or *bigrams*) would be \n",
    "- the cow \n",
    "- cow jumps \n",
    "- jumps over \n",
    "- over the \n",
    "- the moon \n",
    "\n",
    "The `n_grams` function constructs all the n-grams in the text and returns a dictionary indicating how many times they appear. The text report function prints out the 10 longest n-grams which appear more than 4 times. "
   ]
  },
  {
   "cell_type": "markdown",
   "metadata": {
    "deletable": true,
    "editable": true,
    "slideshow": {
     "slide_type": "slide"
    }
   },
   "source": [
    "## Testing\n",
    "\n",
    "The code as it is appears to run fine for a few 'normal' cases, however as it is untested it is likely that it will not do so well for all input data. \n",
    "Your task is to design a set of tests that ensure the code functions correctly for all possible input data. It should be able to deal with edge cases and suitably fail (e.g. terminate with an exception) for invalid data. "
   ]
  },
  {
   "cell_type": "markdown",
   "metadata": {
    "deletable": true,
    "editable": true,
    "slideshow": {
     "slide_type": "subslide"
    }
   },
   "source": [
    "When designing your tests, have in mind the following:\n",
    "* What range of cases should the code be able to deal with? \n",
    "* How should the code deal with edge cases?\n",
    "* What should the code do if it encounters invalid input data?\n",
    "* Even for valid input data, does the code always give the same output or is there some randomness? If so, how can the tests be designed to deal with that?\n",
    "\n",
    "\n",
    "A few examples of 'normal' cases have been given. You may wish to create some more input data for running your tests in order to cover the full range of valid input data (and to test the code fails for invalid input data)."
   ]
  },
  {
   "cell_type": "code",
   "execution_count": 2,
   "metadata": {
    "collapsed": true,
    "deletable": true,
    "editable": true,
    "slideshow": {
     "slide_type": "subslide"
    }
   },
   "outputs": [],
   "source": [
    "from n_grams import n_grams"
   ]
  },
  {
   "cell_type": "code",
   "execution_count": 3,
   "metadata": {
    "collapsed": false,
    "deletable": true,
    "editable": true,
    "slideshow": {
     "slide_type": "fragment"
    }
   },
   "outputs": [
    {
     "name": "stdout",
     "output_type": "stream",
     "text": [
      "\n",
      "There are 20740 words in the text.\n",
      "\n",
      "Mean, median and mode word length is 4.328929604628737, 4.0, 4.\n",
      "\n",
      "10 longest words:\n",
      "misunderstanding\n",
      "incomprehensible\n",
      "enthusiastically\n",
      "disrespectfully\n",
      "personification\n",
      "horticulturally\n",
      "ostentatiously\n",
      "metaphorically\n",
      "reconciliation\n",
      "investigations\n",
      "\n",
      "Most common words:\n",
      "543 x you\n",
      "287 x jack\n",
      "269 x algernon\n",
      "256 x cecily\n",
      "204 x have\n",
      "177 x gwendolen\n",
      "146 x are\n",
      "146 x not\n",
      "140 x your\n",
      "139 x lady\n",
      "\n",
      "Longest n-grams:\n",
      "7 x engaged to be married to\n",
      "8 x aunt augusta lady bracknell\n",
      "8 x lady bracknell lady bracknell\n",
      "6 x the name of ernest\n",
      "6 x seems to me to\n",
      "6 x i am glad to\n",
      "6 x i beg your pardon\n",
      "6 x cecily i dont think\n",
      "5 x on earth do you\n",
      "5 x in the country jack\n",
      "5 x to me to be\n",
      "5 x i think it is\n",
      "5 x would like to be\n",
      "5 x i am afraid i\n",
      "\n",
      "\n"
     ]
    }
   ],
   "source": [
    "files = {\"alice\": \"http://www.gutenberg.org/files/11/11-0.txt\", \n",
    "         \"dracula\": \"http://www.gutenberg.org/ebooks/345.txt.utf-8\",\n",
    "         \"sherlock\": \"http://www.gutenberg.org/ebooks/1661.txt.utf-8\",\n",
    "         \"poe\": \"the_raven.txt\"}\n",
    "\n",
    "txt = n_grams.Text(\"n_grams/wilde.txt\")\n",
    "txt.text_report()"
   ]
  },
  {
   "cell_type": "markdown",
   "metadata": {
    "deletable": true,
    "editable": true
   },
   "source": [
    "## Continuous integration & code coverage\n",
    "\n"
   ]
  },
  {
   "cell_type": "markdown",
   "metadata": {
    "collapsed": true,
    "deletable": true,
    "editable": true
   },
   "source": [
    "Now we have some tests for the code, let's try automating them. Write a `.travis.yml` file and link your code to a travis account.\n",
    "\n",
    "Next, let's see how comprehensive these tests are. \n",
    "- try running your tests with the coverage flag and investigate the `.coverage` report it produces. \n",
    "- modify your `.travis.yml` file to run `coverage.py` and link your repo to a [Codecov](https://codecov.io/) account"
   ]
  },
  {
   "cell_type": "markdown",
   "metadata": {
    "deletable": true,
    "editable": true
   },
   "source": [
    "## Documentation \n",
    "\n",
    "Add some sensible documentation to your code using `sphinx`\n",
    "- Try adding some docstrings to functions in the `numpy` style\n",
    "- Run `sphinx-quickstart`\n",
    "- Try adding another page to your documentation and adding it to the `toctree`\n",
    "- Compile your documentation to generate html files and/or a pdf (you can also try investigating other formats!)\n",
    "- Link your project to a [`Read The Docs`](https://readthedocs.org/) account and get it to build the documentation for you"
   ]
  },
  {
   "cell_type": "markdown",
   "metadata": {
    "deletable": true,
    "editable": true
   },
   "source": [
    "## Publishing code\n",
    "\n",
    "### Make\n",
    "In the n_grams folder, you should find the python script `analyse_texts.py`. When run, this will generate a png figure. This figure is included in the tex file `text_analysis.tex`. \n",
    "- Write a Makefile which automates the building of this tex file.\n",
    "- Ensure the Makefile checks all necessary dependencies - e.g. that if you change the code that generates the figure, this will trigger the code to be rerun and the tex file to be rebuilt.\n",
    "- Include a `clean` command which removes all files created in the build process."
   ]
  },
  {
   "cell_type": "markdown",
   "metadata": {
    "deletable": true,
    "editable": true
   },
   "source": [
    "### Docker \n",
    "Build a docker image for the n_grams code which contains all the necessary files to build the tex file.\n",
    "- Write a `Dockerfile` with compilation and runtime instructions \n",
    "- Build the image on your machine's local Docker image registry \n",
    "- Run the container \n",
    "- Share your image in the docker cloud (e.g. by linking your docker cloud account to your GitHub account)\n",
    "- Download someone else's image and try running it on your machine \n",
    "- Update your Makefile so that the docker image is rebuilt when your code changes"
   ]
  },
  {
   "cell_type": "markdown",
   "metadata": {
    "deletable": true,
    "editable": true
   },
   "source": [
    "### Presenting results \n",
    "For this exercise, head over to the `spotify` folder and open up the `music_analysis` notebook."
   ]
  }
 ],
 "metadata": {
  "celltoolbar": "Raw Cell Format",
  "kernelspec": {
   "display_name": "Python 3",
   "language": "python",
   "name": "python3"
  },
  "language_info": {
   "codemirror_mode": {
    "name": "ipython",
    "version": 3
   },
   "file_extension": ".py",
   "mimetype": "text/x-python",
   "name": "python",
   "nbconvert_exporter": "python",
   "pygments_lexer": "ipython3",
   "version": "3.6.0"
  },
  "livereveal": {
   "height": 768,
   "width": 1224
  },
  "toc": {
   "colors": {
    "hover_highlight": "#DAA520",
    "running_highlight": "#FF0000",
    "selected_highlight": "#FFD700"
   },
   "moveMenuLeft": true,
   "nav_menu": {
    "height": "171px",
    "width": "252px"
   },
   "navigate_menu": true,
   "number_sections": true,
   "sideBar": true,
   "threshold": 4,
   "toc_cell": false,
   "toc_section_display": "block",
   "toc_window_display": false
  }
 },
 "nbformat": 4,
 "nbformat_minor": 1
}
