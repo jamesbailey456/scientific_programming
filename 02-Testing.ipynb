{
 "cells": [
  {
   "cell_type": "code",
   "execution_count": 1,
<<<<<<< HEAD
   "metadata": {
    "collapsed": false,
    "deletable": true,
    "editable": true
   },
=======
   "metadata": {},
>>>>>>> ac3cc491f544869a16016b36ca89b2ad9bf2ea55
   "outputs": [
    {
     "data": {
      "text/html": [
       "<link href='http://fonts.googleapis.com/css?family=Open+Sans:100,300,400,500,700,800,900,100italic,300italic,400italic,500italic,700italic,800italic,900italic' rel='stylesheet' type='text/css'>\n",
       "<link href='http://fonts.googleapis.com/css?family=Merriweather:400,700,400italic' rel='stylesheet' type='text/css'>\n",
       "<link href='http://fonts.googleapis.com/css?family=Inconsolata' rel='stylesheet' type='text/css'>\n",
       "<style>\n",
       "\n",
       "@font-face {\n",
       "    font-family: \"Computer Modern\";\n",
       "    src: url('http://mirrors.ctan.org/fonts/cm-unicode/fonts/otf/cmunss.otf');\n",
       "}\n",
       "\n",
       "#notebook_panel { /* main background */\n",
       "    background: rgb(245,245,245);\n",
       "}\n",
       "\n",
       "div.cell { /* set cell width */\n",
       "    width: 75em;\n",
       "}\n",
       "\n",
       "div #notebook { /* centre the content */\n",
       "    background: #fff; /* white background for content */\n",
       "    width: 80em;\n",
       "    margin: auto;\n",
       "    padding-left: 0em;\n",
       "}\n",
       "\n",
       "#notebook li { /* More space between bullet points */\n",
       "margin-top:0.8em;\n",
       "}\n",
       "\n",
       "/* draw border around running cells */\n",
       "div.cell.border-box-sizing.code_cell.running {\n",
       "    border: 1px solid #111;\n",
       "}\n",
       "\n",
       "/* Put a solid color box around each cell and its output, visually linking them*/\n",
       "div.cell.code_cell {\n",
       "    /*font-family: 'Inconsolata', monospace;*/\n",
       "    background-color: rgb(256,256,256);\n",
       "    border-radius: 0px;\n",
       "    padding: 0.5em;\n",
       "    margin-left:1em;\n",
       "    margin-right:1em;\n",
       "    margin-top: 1em;\n",
       "}\n",
       "\n",
       "div.text_cell_render{\n",
       "    font-family: 'Open Sans', sans-serif;\n",
       "    line-height: 140%;\n",
       "    font-size: 110%;\n",
       "    font-weight: 400;\n",
       "    padding: 0.5em;\n",
       "    margin-left:1em;\n",
       "    margin-right:1em;\n",
       "}\n",
       "\n",
       ".text_cell_render pre {\n",
       "    white-space: pre;\n",
       "    white-space: pre-wrap;\n",
       "    white-space: -moz-pre-wrap;\n",
       "    white-space: -o-pre-wrap;\n",
       "    background-color: #f5f5f5;\n",
       "    padding: 0.5em;\n",
       "}\n",
       "\n",
       ".text_cell_render code {\n",
       "    font-size: 95%;\n",
       "    white-space: pre;\n",
       "    white-space: pre-wrap;\n",
       "    white-space: -moz-pre-wrap;\n",
       "    white-space: -o-pre-wrap;\n",
       "    background-color: #f5f5f5;\n",
       "}\n",
       "\n",
       "/* Formatting for header cells */\n",
       ".text_cell_render h1 {\n",
       "    font-family: 'Merriweather', serif;\n",
       "    font-style: regular;\n",
       "    font-weight: 400;\n",
       "    font-size: 3em;\n",
       "    line-height: 100%;\n",
       "    color: rgb(36,67,87);\n",
       "    margin-bottom: 0.5em;\n",
       "    margin-top: 0.5em;\n",
       "    display: block;\n",
       "}\n",
       ".text_cell_render h2 {\n",
       "    font-family: 'Merriweather', serif;\n",
       "    font-weight: 400;\n",
       "    font-size: 2.2em;\n",
       "    line-height: 100%;\n",
       "    color: rgb(36,67,87);\n",
       "    margin-bottom: 0.3em;\n",
       "    margin-top: 0.3em;\n",
       "    display: block;\n",
       "}\n",
       "\n",
       ".text_cell_render h3 {\n",
       "    font-family: 'Merriweather', serif;\n",
       "    margin-top:1em;\n",
       "\tfont-size: 1.6em;\n",
       "    font-weight: 400;\n",
       "    margin-bottom: 0.3em;\n",
       "    font-style: regular;\n",
       "    color: rgb(85, 111, 127);\n",
       "}\n",
       "\n",
       ".text_cell_render h4 {\n",
       "    font-family: 'Inconsolata', monospace;\n",
       "    /*font-family: 'Merriweather', serif;*/\n",
       "    font-size: 1.3em;\n",
       "    margin-top: 0.3em;\n",
       "    margin-bottom: 0.5em;\n",
       "    font-style: regular;\n",
       "    color: rgb(85, 111, 127);\n",
       "}\n",
       "\n",
       ".text_cell_render h5 {  /*Captions*/\n",
       "    font-family: 'Merriweather', serif;\n",
       "    font-weight: 400;\n",
       "    font-size: 1em;\n",
       "    color: rgb(85, 111, 127);\n",
       "    font-style: regular;\n",
       "    margin-bottom: .1em;\n",
       "    margin-top: 0.8em;\n",
       "    display: block;\n",
       "    text-align: center;\n",
       "}\n",
       "\n",
       ".text_cell_render h6 { /*use this for copyright note*/\n",
       "    font-family: 'Inconsolata', sans-serif;\n",
       "    font-weight: 300;\n",
       "    font-size: 9pt;\n",
       "    line-height: 100%;\n",
       "    color: grey;\n",
       "    margin-bottom: 1px;\n",
       "    margin-top: 1px;\n",
       "}\n",
       "\n",
       "img {\n",
       "    margin-left: auto;\n",
       "    margin-right: auto;\n",
       "}\n",
       "\n",
       "/*.CodeMirror{\n",
       "        font-size: 120%;\n",
       "}*/\n",
       "\n",
       "</style>\n",
       "<script>\n",
       "    MathJax.Hub.Config({\n",
       "                        TeX: {\n",
       "                           extensions: [\"AMSmath.js\"],\n",
       "                           equationNumbers: { autoNumber: \"AMS\", useLabelIds: true}\n",
       "                           },\n",
       "                tex2jax: {\n",
       "                    inlineMath: [ ['$','$'], [\"\\\\(\",\"\\\\)\"] ],\n",
       "                    displayMath: [ ['$$','$$'], [\"\\\\[\",\"\\\\]\"] ]\n",
       "                },\n",
       "                displayAlign: 'center', // Change this to 'center' to center equations.\n",
       "                \"HTML-CSS\": {\n",
       "                    styles: {'.MathJax_Display': {\"margin\": 4}}\n",
       "                }\n",
       "        });\n",
       "</script>\n"
      ],
      "text/plain": [
       "<IPython.core.display.HTML object>"
      ]
     },
     "execution_count": 1,
     "metadata": {},
     "output_type": "execute_result"
    }
   ],
   "source": [
    "from IPython.core.display import HTML\n",
    "css_file = \"./notebook_style.css\"\n",
    "HTML(open(css_file, 'r').read())"
   ]
  },
  {
   "cell_type": "markdown",
   "metadata": {
    "deletable": true,
    "editable": true,
    "slideshow": {
     "slide_type": "slide"
    }
   },
   "source": [
    "# 2. Testing Scientific Codes\n",
    "\n",
    "- [When should I test?](#When-should-I-test?)\n",
    "- [Effective testing](#Effective-testing)\n",
    "    * [Unit tests](#Unit-tests)\n",
    "    * [Integration tests](#Integration-tests)\n",
    "    * [Convergence tests](#Convergence-tests)\n",
    "    * [Regression tests](#Regression-tests)\n",
    "    * [Test driven development](#Test-driven-development)\n",
    "- [Common problems and how to solve them](#Common-problems-and-how-to-solve-them)\n",
    "    * [Randomness](#My-code-has-some-randomness-and-so-its-output-changes-every-time-I-run-it---what-can-I-test-for?)\n",
    "    * [Unknown solutions](#I-don%27t-know-what-the-correct-solution-should-be)\n",
    "    * [Building on other people's code](#I-didn%27t-write-most-of-the-code---how-do-I-know-that-the-bit-I-wrote-works?)\n",
    "    * [Numerical error](#I-know-there-is-some-numerical-error-in-my-code---how-can-I-test-my-code-is-correct-up-to-this-error?)\n",
    "- [Further reading](#Further-reading)"
   ]
  },
  {
   "cell_type": "code",
<<<<<<< HEAD
   "execution_count": 3,
   "metadata": {
    "collapsed": true,
    "deletable": true,
    "editable": true
   },
   "outputs": [],
=======
   "execution_count": 2,
   "metadata": {},
   "outputs": [
    {
     "name": "stderr",
     "output_type": "stream",
     "text": [
      "/Users/aliceharpole/anaconda3/lib/python3.5/site-packages/matplotlib/font_manager.py:280: UserWarning: Matplotlib is building the font cache using fc-list. This may take a moment.\n",
      "  'Matplotlib is building the font cache using fc-list. '\n"
     ]
    }
   ],
>>>>>>> ac3cc491f544869a16016b36ca89b2ad9bf2ea55
   "source": [
    "import numpy\n",
    "from numpy.random import rand\n",
    "import matplotlib.pyplot as plt\n",
    "%matplotlib inline\n",
    "plt.rcParams.update({'font.size': 18})\n",
    "from scipy.integrate import quad\n",
    "import unittest"
   ]
  },
  {
   "cell_type": "markdown",
   "metadata": {
    "deletable": true,
    "editable": true,
    "slideshow": {
     "slide_type": "slide"
    }
   },
   "source": [
    "In the experimental sciences, new theories are developed by applying the scientific method. This involves carrying out tests to ensure that results are accurate, reproducible and reliable. The experimental setup will be tested in order to show that it is working as designed and so as to eliminate or quantify any systematic errors. A result will not be trusted unless the experiment itself has been carried out to a suitable standard. \n",
    "\n",
    "In computational science, we should apply the same principles to our code. A result should only be trusted if the code that has produced it has undergone rigorous testing which demonstrates that it is working as intended and that any limitations of the code (e.g. numerical errors) are understood and quantified. \n",
    "\n",
    "Unfortunately, testing scientific codes can be quite challenging. By their very nature, they are often built in order to investigate systems where the behaviour is to some extent unknown. They can be very complex, often built over a number of years (or even decades!) with contributions from a vast number of people. However, even for the most complicated of codes there are a number of different types of tests that we can apply in order for us to build robust, reliable code whose results can be trusted. \n",
    "\n"
   ]
  },
  {
   "cell_type": "markdown",
   "metadata": {
    "deletable": true,
    "editable": true,
    "slideshow": {
     "slide_type": "slide"
    }
   },
   "source": [
    "![Good code](https://imgs.xkcd.com/comics/good_code.png )\n",
    "##### Writing good code is hard - [xkcd](https://xkcd.com/844/)"
   ]
  },
  {
   "cell_type": "markdown",
   "metadata": {
    "deletable": true,
    "editable": true,
    "slideshow": {
     "slide_type": "slide"
    }
   },
   "source": [
    "## When should I test?\n",
    "\n",
    "### Always and often\n",
    "\n",
    "The earlier you start testing the better, as it will be possible to catch bugs as they develop and before they become too entrenched in the code. Once written, you should then try and execute tests every time changes are made. Continuous integration (see below) is a useful tool to use to make sure that tests are run frequently - once the tests are written and the CI setup, they can then be forgetten about to a certain extent, safe in the knowledge that if any bugs are introduced in changes to the code, they should be caught.\n",
    "\n",
    "**However**, it is important to review your tests regularly. In code that is being actively developed, tests must be amended and new tests written so as to make sure that new features are also tested. Regression tests are useful here to test that changes to the code improve its performance rather than making it worse. Code coverage is a useful tool to make sure that all code is being tested. It's all very well having a testing suite, but if only 20% of the code has been tested, you still cannot trust that the other 80% of the code is producing reliable results. "
   ]
  },
  {
   "cell_type": "markdown",
   "metadata": {
    "deletable": true,
    "editable": true,
    "slideshow": {
     "slide_type": "subslide"
    }
   },
   "source": [
    "## Effective testing\n",
    "\n",
    "In order to have an effective set of tests, it's necessary to make sure that the entire parameter space is tested, not just one or two nice cases. Of particular importance are edge and corner cases. If the code needs to run over a set of parameters, then edge cases are those which are at the beginning and end of this range. A corner case is then where one or more edge cases are combined. Such cases tend to be where errors most often arise, as often special code is required to deal with boundary values.\n",
    "\n",
    "In the code below, we demonstrate the importance of testing edge cases. The code takes a vector $\\mathbf{v}$ and normalises it $\\hat{\\mathbf{v}} = \\frac{\\mathbf{v} }{ |\\mathbf{v}|}$. We see that if the code is run for the vector $(0,0)$, a `RuntimeWarning` is raised as the function is attempting to divide by zero. "
   ]
  },
  {
   "cell_type": "code",
   "execution_count": 3,
   "metadata": {
    "collapsed": true,
    "deletable": true,
    "editable": true
   },
   "outputs": [],
   "source": [
    "def normalise(v):\n",
    "    norm = numpy.sqrt(numpy.sum(v**2))\n",
    "    \n",
    "    return v / norm"
   ]
  },
  {
   "cell_type": "code",
<<<<<<< HEAD
   "execution_count": 5,
   "metadata": {
    "collapsed": false,
    "deletable": true,
    "editable": true
   },
=======
   "execution_count": 4,
   "metadata": {},
>>>>>>> ac3cc491f544869a16016b36ca89b2ad9bf2ea55
   "outputs": [
    {
     "name": "stderr",
     "output_type": "stream",
     "text": [
      "/Users/aliceharpole/anaconda3/lib/python3.5/site-packages/ipykernel/__main__.py:4: RuntimeWarning: invalid value encountered in true_divide\n"
     ]
    },
    {
     "data": {
      "text/plain": [
       "array([ nan,  nan])"
      ]
     },
     "execution_count": 4,
     "metadata": {},
     "output_type": "execute_result"
    }
   ],
   "source": [
    "normalise(numpy.array([0,0]))"
   ]
  },
  {
   "cell_type": "markdown",
   "metadata": {
    "deletable": true,
    "editable": true
   },
   "source": [
    "We therefore need to amend our function for the case where the norm of the vector is zero. A possible solution is the function below."
   ]
  },
  {
   "cell_type": "code",
   "execution_count": 5,
   "metadata": {
    "collapsed": true,
    "deletable": true,
    "editable": true
   },
   "outputs": [],
   "source": [
    "def improved_normalise(v):\n",
    "    norm = numpy.sqrt(numpy.sum(v**2))\n",
    "    \n",
    "    if norm == 0.:\n",
    "        return v\n",
    "    \n",
    "    return v / norm"
   ]
  },
  {
   "cell_type": "code",
<<<<<<< HEAD
   "execution_count": 7,
   "metadata": {
    "collapsed": false,
    "deletable": true,
    "editable": true
   },
=======
   "execution_count": 6,
   "metadata": {},
>>>>>>> ac3cc491f544869a16016b36ca89b2ad9bf2ea55
   "outputs": [
    {
     "data": {
      "text/plain": [
       "array([0, 0])"
      ]
     },
     "execution_count": 6,
     "metadata": {},
     "output_type": "execute_result"
    }
   ],
   "source": [
    "improved_normalise(numpy.array([0,0]))"
   ]
  },
  {
   "cell_type": "markdown",
   "metadata": {
    "deletable": true,
    "editable": true
   },
   "source": [
    "Our improved function now tests to see if the norm is zero - if so, it returns the original vector rather than attempting to divide by zero. There are often multiple ways to deal with invalid data in a program - the choice of which method to use depends on which is most appropriate for your particular problem. An alternative implementation of the normalise function would be to use [*exception handling*](https://docs.python.org/3/tutorial/errors.html#exceptions). Exceptions are errors which are detected during the execution of the program (rather than syntax or parsing errors which are detected by the parser before the program is run). You have most likely come across some of python's built in exceptions before, e.g. `FloatingPointError`, `IOError`, `ZeroDivisionError`. It's also possible for the user to define their own exceptions. The default behaviour when an exception is detected is for the program to exit (the exception is an *unhandled error*), however we can instead choose to *handle* the exception using a `try...except` block.\n",
    "\n",
    "By default, numpy sets floating-point errors to be raised as *warnings* rather than exceptions. The first line of the code below turns this behaviour off."
   ]
  },
  {
   "cell_type": "code",
   "execution_count": 7,
   "metadata": {
    "collapsed": true,
    "deletable": true,
    "editable": true
   },
   "outputs": [],
   "source": [
    "numpy.seterr(invalid='raise')\n",
    "\n",
    "def exception_normalise(v):\n",
    "    \n",
    "    try:\n",
    "        norm = numpy.sqrt(numpy.sum(v**2))\n",
    "        vhat = v / norm\n",
    "    except FloatingPointError:\n",
    "        print('Norm of vector is zero, returning original vector')\n",
    "        vhat = v\n",
    "        \n",
    "    return vhat"
   ]
  },
  {
   "cell_type": "code",
<<<<<<< HEAD
   "execution_count": 35,
   "metadata": {
    "collapsed": false,
    "deletable": true,
    "editable": true
   },
=======
   "execution_count": 8,
   "metadata": {},
>>>>>>> ac3cc491f544869a16016b36ca89b2ad9bf2ea55
   "outputs": [
    {
     "name": "stdout",
     "output_type": "stream",
     "text": [
      "Norm of vector is zero, returning original vector\n"
     ]
    },
    {
     "data": {
      "text/plain": [
       "array([0, 0])"
      ]
     },
     "execution_count": 8,
     "metadata": {},
     "output_type": "execute_result"
    }
   ],
   "source": [
    "exception_normalise(numpy.array([0,0]))"
   ]
  },
  {
   "cell_type": "markdown",
   "metadata": {
    "deletable": true,
    "editable": true
   },
   "source": [
    "It is also important to check that the code breaks as expected. If the code input is garbage but it still manages to run as normal, that is not good behaviour and suggests some data validation of input parameters is needed. For example, let's  try to run our improved normalisation function on a string:"
   ]
  },
  {
   "cell_type": "code",
<<<<<<< HEAD
   "execution_count": 33,
   "metadata": {
    "collapsed": false,
    "deletable": true,
    "editable": true
   },
=======
   "execution_count": 9,
   "metadata": {},
>>>>>>> ac3cc491f544869a16016b36ca89b2ad9bf2ea55
   "outputs": [
    {
     "ename": "TypeError",
     "evalue": "unsupported operand type(s) for ** or pow(): 'str' and 'int'",
     "output_type": "error",
     "traceback": [
      "\u001b[0;31m---------------------------------------------------------------------------\u001b[0m",
      "\u001b[0;31mTypeError\u001b[0m                                 Traceback (most recent call last)",
      "\u001b[0;32m<ipython-input-9-f65095dab411>\u001b[0m in \u001b[0;36m<module>\u001b[0;34m()\u001b[0m\n\u001b[0;32m----> 1\u001b[0;31m \u001b[0mexception_normalise\u001b[0m\u001b[0;34m(\u001b[0m\u001b[0;34m\"I am a string\"\u001b[0m\u001b[0;34m)\u001b[0m\u001b[0;34m\u001b[0m\u001b[0m\n\u001b[0m",
      "\u001b[0;32m<ipython-input-7-e2c34204f8f2>\u001b[0m in \u001b[0;36mexception_normalise\u001b[0;34m(v)\u001b[0m\n\u001b[1;32m      4\u001b[0m \u001b[0;34m\u001b[0m\u001b[0m\n\u001b[1;32m      5\u001b[0m     \u001b[0;32mtry\u001b[0m\u001b[0;34m:\u001b[0m\u001b[0;34m\u001b[0m\u001b[0m\n\u001b[0;32m----> 6\u001b[0;31m         \u001b[0mnorm\u001b[0m \u001b[0;34m=\u001b[0m \u001b[0mnumpy\u001b[0m\u001b[0;34m.\u001b[0m\u001b[0msqrt\u001b[0m\u001b[0;34m(\u001b[0m\u001b[0mnumpy\u001b[0m\u001b[0;34m.\u001b[0m\u001b[0msum\u001b[0m\u001b[0;34m(\u001b[0m\u001b[0mv\u001b[0m\u001b[0;34m**\u001b[0m\u001b[0;36m2\u001b[0m\u001b[0;34m)\u001b[0m\u001b[0;34m)\u001b[0m\u001b[0;34m\u001b[0m\u001b[0m\n\u001b[0m\u001b[1;32m      7\u001b[0m         \u001b[0mvhat\u001b[0m \u001b[0;34m=\u001b[0m \u001b[0mv\u001b[0m \u001b[0;34m/\u001b[0m \u001b[0mnorm\u001b[0m\u001b[0;34m\u001b[0m\u001b[0m\n\u001b[1;32m      8\u001b[0m     \u001b[0;32mexcept\u001b[0m \u001b[0mFloatingPointError\u001b[0m\u001b[0;34m:\u001b[0m\u001b[0;34m\u001b[0m\u001b[0m\n",
      "\u001b[0;31mTypeError\u001b[0m: unsupported operand type(s) for ** or pow(): 'str' and 'int'"
     ]
    }
   ],
   "source": [
    "exception_normalise(\"I am a string\")"
   ]
  },
  {
   "cell_type": "markdown",
   "metadata": {
    "deletable": true,
    "editable": true
   },
   "source": [
    "Python correctly spots that it cannot perform the power operation on a string and raises a `TypeError` exception. However, it would probably be more useful to implement some kind of type checking of the function inputs before this (e.g. using `numpy.isnumeric`), and/or make sure that the code that calls this function is capable of catching such exceptions. For example, we may decide that if data of an invalid type is passed to the function, it should return 0:"
   ]
  },
  {
   "cell_type": "code",
   "execution_count": 10,
   "metadata": {
    "collapsed": true,
    "deletable": true,
    "editable": true
   },
   "outputs": [],
   "source": [
    "def exception_normalise(v):\n",
    "    \n",
    "    try:\n",
    "        norm = numpy.sqrt(numpy.sum(v**2))\n",
    "        vhat = v / norm\n",
    "    except FloatingPointError:\n",
    "        print('Norm of vector is zero, returning original vector')\n",
    "        vhat = v\n",
    "    except TypeError:\n",
    "        print('Invalid input data, returning 0')\n",
    "        vhat = 0\n",
    "        \n",
    "    return vhat"
   ]
  },
  {
   "cell_type": "code",
<<<<<<< HEAD
   "execution_count": 37,
   "metadata": {
    "collapsed": false,
    "deletable": true,
    "editable": true
   },
=======
   "execution_count": 11,
   "metadata": {},
>>>>>>> ac3cc491f544869a16016b36ca89b2ad9bf2ea55
   "outputs": [
    {
     "name": "stdout",
     "output_type": "stream",
     "text": [
      "Invalid input data, returning 0\n"
     ]
    },
    {
     "data": {
      "text/plain": [
       "0"
      ]
     },
     "execution_count": 11,
     "metadata": {},
     "output_type": "execute_result"
    }
   ],
   "source": [
    "exception_normalise(\"I am a string\")"
   ]
  },
  {
   "cell_type": "markdown",
   "metadata": {
    "deletable": true,
    "editable": true
   },
   "source": [
    "### Unit tests\n",
    "\n",
    "For complicated codes made up of many functions, it is useful to write a serious of tests that check small parts of the code - *units* - at a time. This makes it easier to track down the exact location of bugs. These units may be individual functions or groups of shorter functions. Unit tests therefore encourage good coding practice, as they require code to be modular. \n",
    "\n",
    "In the example below, we have three (very simple) functions: `squared` which returns the square of its input, `add_2` which adds 2 to its input and `square_plus_2` which calls the two previous functions to return $x^2+2$. To test this code, we could therefore write unit tests for the first two functions to check they are working correctly. We've used the `unittest` module here as it allows us to test that functions correctly raise exceptions when given invalid data."
   ]
  },
  {
   "cell_type": "code",
   "execution_count": 12,
   "metadata": {
    "collapsed": true,
    "deletable": true,
    "editable": true
   },
   "outputs": [],
   "source": [
    "def squared(x):\n",
    "    return x*x\n",
    "\n",
    "def add_2(x):\n",
    "    return x + 2\n",
    "\n",
    "def square_plus_2(x):\n",
    "    return add_2(squared(x))"
   ]
  },
  {
   "cell_type": "code",
   "execution_count": 13,
   "metadata": {
    "collapsed": true,
    "deletable": true,
    "editable": true
   },
   "outputs": [],
   "source": [
    "class test_units(unittest.TestCase):\n",
    "    \n",
    "    def test_squared(self):\n",
    "        self.assertTrue(squared(-5) == 25)\n",
    "        self.assertTrue(squared(1e5) == 1e10)\n",
    "        self.assertRaises(TypeError, squared, \"A string\")\n",
    "        \n",
    "    def test_add_2(self):\n",
    "        self.assertTrue(add_2(-5) == -3)\n",
    "        self.assertTrue(add_2(1e5) == 100002)\n",
    "        self.assertRaises(TypeError, add_2, \"A string\")\n",
    "    \n",
    "test_units().test_squared()\n",
    "test_units().test_add_2()"
   ]
  },
  {
   "cell_type": "markdown",
   "metadata": {
    "deletable": true,
    "editable": true
   },
   "source": [
    "### Integration tests\n",
    "\n",
    "Once you've written your unit tests and are pretty confident that individual parts of the code work on their own, you than need to verify that these different parts work together. To see why this is needed, imagine you were asked to build a car, despite only having a vague idea of how everything fits together. You've been given all the different parts (the engine, the wheels, the steering wheel...) - these have all previously undergone rigorous testing and you have been assured that they all work fine. You put them all together to the best of your ability, but unfortunately cannot get the car to work. Much as with your code, despite the individual parts working, this is no guarantee that they will work when put together.\n",
    "\n",
    "In the above example, we can add an integration test by writing a test for `square_plus_2` - this calls the other two functions, so we'll test that it does this properly."
   ]
  },
  {
   "cell_type": "code",
   "execution_count": 14,
   "metadata": {
    "collapsed": true,
    "deletable": true,
    "editable": true
   },
   "outputs": [],
   "source": [
    "class test_integration(unittest.TestCase):\n",
    "    \n",
    "    def test_square_plus_2(self):\n",
    "        self.assertTrue(square_plus_2(-5) == 27)\n",
    "        self.assertTrue(square_plus_2(1e5) == 10000000002)\n",
    "        self.assertRaises(TypeError, square_plus_2, \"A string\")\n",
    "        \n",
    "test_integration().test_square_plus_2()"
   ]
  },
  {
   "cell_type": "markdown",
   "metadata": {
    "deletable": true,
    "editable": true
   },
   "source": [
    "As we'll see below, integration tests can be difficult to design. They can encompass a small section of the code, e.g. to check that one function correctly calls another, all the way up to the entire code. Because they can involve many different functions, they are often a lot more complex than unit tests. "
   ]
  },
  {
   "cell_type": "markdown",
   "metadata": {
    "deletable": true,
    "editable": true
   },
   "source": [
    "### Convergence tests\n",
    "\n",
    "Often we want to calculate a solution on some kind of grid. The solution we find is a discretised approximation of the exact continuous solution. As the resolution of the grid increases, the solution should approach exact solution. Convergence tests are a way of checking this. The solution is calculated for grids of various resolutions. If the code is working correctly, the error of the solution should decrease with increasing resolution approximately at an order that depends on the accuracy of the algorithm (until the error becomes so small it then becomes dominated by floating point errors). "
   ]
  },
  {
   "cell_type": "markdown",
   "metadata": {
    "deletable": true,
    "editable": true
   },
   "source": [
    "In the example below, we will demonstrate this by using the trapezium rule to approximate the integral of $\\sin (x)$ with various different step sizes, $h$. By comparing the calculated errors to a line of gradient $h^2$, it can be seen that the numerical approximation is converging as expected at $O(h^2)$."
   ]
  },
  {
   "cell_type": "code",
<<<<<<< HEAD
   "execution_count": 12,
   "metadata": {
    "collapsed": false,
    "deletable": true,
    "editable": true
   },
=======
   "execution_count": 15,
   "metadata": {},
>>>>>>> ac3cc491f544869a16016b36ca89b2ad9bf2ea55
   "outputs": [
    {
     "data": {
      "image/png": "iVBORw0KGgoAAAANSUhEUgAAAhsAAAEfCAYAAADoXgQ2AAAABHNCSVQICAgIfAhkiAAAAAlwSFlz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\nInH1/wFH0zxXRLLB0QAAAABJRU5ErkJggg==\n",
      "text/plain": [
       "<matplotlib.figure.Figure at 0x10b3e1630>"
      ]
     },
     "metadata": {},
     "output_type": "display_data"
    }
   ],
   "source": [
    "hs = numpy.array([1. / (4. * 2.**n) for n in range(8)])\n",
    "errors = numpy.zeros_like(hs)\n",
    "\n",
    "for i, h in enumerate(hs):\n",
    "    xs = numpy.arange(0., 1.+h, h)\n",
    "    ys = numpy.sin(xs)\n",
    "    \n",
    "    # use trapezium rule to approximate integral\n",
    "    integral_approx = sum((xs[1:] - xs[:-1]) * 0.5 * (ys[1:] + ys[:-1]))\n",
    "    errors[i] = -numpy.cos(1) + numpy.cos(0) - integral_approx\n",
    "    \n",
    "plt.loglog(hs, errors, 'x', label='Error')\n",
    "plt.plot(hs, 0.1*hs**2, label=r'$h^2$')\n",
    "plt.xlabel(r'$h$')\n",
    "plt.ylabel('error')\n",
    "plt.legend(loc='center left', bbox_to_anchor=[1.0, 0.5])\n",
    "plt.show()"
   ]
  },
  {
   "cell_type": "markdown",
   "metadata": {
    "deletable": true,
    "editable": true
   },
   "source": [
    "### Regression tests\n",
    "\n",
    "When building your code, generally you'll be aiming for its performance to improve with time. Results should get more accurate or, at the very least, should not deteriorate. Regression tests are a way to check this. Multiple versions of the code are run and the outputs compared. If the output has changed such that it is significantly different from the previous output, the test fails. Such tests can help catch bugs that other types of tests may not, and can help ensure the project remains backwards-compatible for such cases where that is important. "
   ]
  },
  {
   "cell_type": "markdown",
   "metadata": {
    "deletable": true,
    "editable": true
   },
   "source": [
    "### Test driven development\n",
    "\n",
    "Above we said that it's best to start testing your code early on in the development of your code. Test driven development takes this to the extreme: tests are written *before* you even write a line of the main code. The tests then take the form of a sort of 'product specification', providing a set of tests for things that you aim for your finished code to be able to do. In order to be able to write such tests, you need to have a good idea of the structure your code will have, so test driven development can be useful in that it forces you to plan out your code before you start writing it. \n",
    "\n",
    "Unfortunately, as we've seen, scientific codes can be difficult to test, often having unpredictable output. They often implement novel techniques, so it can be hard to plan what the final code will look like. This means that test driven development can be harder to successfully implement for scientific codes."
   ]
  },
  {
   "cell_type": "markdown",
   "metadata": {
    "deletable": true,
    "editable": true
   },
   "source": [
    "## Common problems and how to solve them\n",
    "\n",
    "### My code has some randomness and so its output changes every time I run it - what can I test for?\n",
    "\n",
    "In time evolution problems, it may be that whilst the output at any individual timestep can be somewhat random, the behaviour averaged over a number of timesteps is to some extent known. Tests can therefore be written to check that this is the case. In other problems, it may be more useful to test the average behaviour across the entire domain or sections of the domain. Even if the behaviour is completely random and so it's not possible to take any meaningful averages, the chances are that it should still be within a set of known values - we can therefore write tests that check the data is within these limits. Another strategy is to try to write tests that isolate the random parts so that you can check the non-random parts of the code work. If you are using a random number generator, it can be possible to eliminate the non-determinism by testing using a fixed seed value for the generator. \n",
    "\n",
    "In the code below, we generate an array of random data and apply some function to it before plotting the results. It can be seen that the output is different every time the code is run."
   ]
  },
  {
   "cell_type": "code",
<<<<<<< HEAD
   "execution_count": 57,
   "metadata": {
    "collapsed": false,
    "deletable": true,
    "editable": true
   },
=======
   "execution_count": 16,
   "metadata": {},
>>>>>>> ac3cc491f544869a16016b36ca89b2ad9bf2ea55
   "outputs": [
    {
     "data": {
      "image/png": "iVBORw0KGgoAAAANSUhEUgAAAUUAAAEGCAYAAADyuIefAAAABHNCSVQICAgIfAhkiAAAAAlwSFlz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\nYII=\n",
      "text/plain": [
       "<matplotlib.figure.Figure at 0x10eabeb00>"
      ]
     },
     "metadata": {},
     "output_type": "display_data"
    }
   ],
   "source": [
    "data = rand(80,80)\n",
    "\n",
    "def func(a):\n",
    "    return a**2 * numpy.sin(a)\n",
    "\n",
    "output = func(data)\n",
    "\n",
    "plt.imshow(output)\n",
    "plt.colorbar()\n",
    "plt.show()"
   ]
  },
  {
   "cell_type": "markdown",
   "metadata": {
    "deletable": true,
    "editable": true
   },
   "source": [
    "The output of this code changes every time the code is run, however we can still write some tests for it. We know that all values in the output array must be $0\\leq x \\leq 1$. In some circumstances, such as in this case, we may know the statistical distribution of the random data. We can therefore calculate what the average output value should be and compare this to our code's output. In our case, the data is generated from a uniform distribution of numbers between 0 and 1, so the average value of the output is given by $\\int_0^1 f(x) \\,dx \\simeq 0.22$"
   ]
  },
  {
   "cell_type": "code",
<<<<<<< HEAD
   "execution_count": 58,
   "metadata": {
    "collapsed": false,
    "deletable": true,
    "editable": true
   },
=======
   "execution_count": 17,
   "metadata": {},
>>>>>>> ac3cc491f544869a16016b36ca89b2ad9bf2ea55
   "outputs": [
    {
     "name": "stdout",
     "output_type": "stream",
     "text": [
      "Function output within correct limits\n",
      "Function output has correct average\n"
     ]
    }
   ],
   "source": [
    "def test_limits(a):\n",
    "    if numpy.all(a >= 0.) and numpy.all(a <= 1.):\n",
    "        return True\n",
    "    return False\n",
    "\n",
    "def test_average(a):\n",
    "    if numpy.isclose(numpy.average(a), 0.223, rtol=5.e-2):\n",
    "        return True\n",
    "    return False\n",
    "\n",
    "\n",
    "\n",
    "if test_limits(output):\n",
    "    print('Function output within correct limits')\n",
    "else:\n",
    "    print('Function output is not within correct limits')\n",
    "\n",
    "if test_average(output):\n",
    "    print('Function output has correct average')\n",
    "else:\n",
    "    print('Function output does not have correct average')"
   ]
  },
  {
   "cell_type": "markdown",
   "metadata": {
    "deletable": true,
    "editable": true
   },
   "source": [
    "### I don't know what the correct solution should be\n",
    "\n",
    "In experimental science, the experimental setup will be tested using a control. This is where the experiment is run using a set of input data for which the outcome is known, so that any bugs in the apparatus or systematic errors can be identified. In computational science, there is often a simple system whose behaviour is known which can be used to test the code. E.g. in time evolution problems, a system which is initially static should remain that way. If this is not the case, then this indicates there is something seriously wrong with the code! In physics, we can also check for symmetries of the system (e.g. rotational symmetry, translation symmetry, reflection symmetry). There are also often conserved quantities (e.g. mass, energy, charge) that we can check the code conserves.\n",
    "\n",
    "In the below example, we look at a black box function - `scipy.integrate.quad`. Here, this function will stand in for a bit of code that we have written and want to test. Say we wish to use `quad` to calculate the integral of some complicated function and we have little idea what the solution will be. Before we use it on the complicated function, we will test that it behaves correctly for a function whose integral we already know: $f(x) = \\sin(x)$."
   ]
  },
  {
   "cell_type": "code",
<<<<<<< HEAD
   "execution_count": 15,
   "metadata": {
    "collapsed": false,
    "deletable": true,
    "editable": true
   },
=======
   "execution_count": 18,
   "metadata": {},
>>>>>>> ac3cc491f544869a16016b36ca89b2ad9bf2ea55
   "outputs": [
    {
     "data": {
      "image/png": "iVBORw0KGgoAAAANSUhEUgAAAfgAAAEECAYAAADEeCYdAAAABHNCSVQICAgIfAhkiAAAAAlwSFlz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\n",
      "text/plain": [
       "<matplotlib.figure.Figure at 0x10edaa3c8>"
      ]
     },
     "metadata": {},
     "output_type": "display_data"
    }
   ],
   "source": [
    "xs = numpy.linspace(0.0, 2.0 * numpy.pi)\n",
    "\n",
    "integrals = numpy.zeros_like(xs) \n",
    "\n",
    "for i in range(len(xs)):\n",
    "    integrals[i] = quad(numpy.sin, 0.0, xs[i])[0]\n",
    "\n",
    "plt.plot(xs, -numpy.cos(xs)+1, '-', label=r'$\\int f(x)$')\n",
    "plt.plot(xs, integrals, 'x', label='quad')\n",
    "plt.legend(loc='center left', bbox_to_anchor=[1.0, 0.5])\n",
    "plt.show()"
   ]
  },
  {
   "cell_type": "markdown",
   "metadata": {
    "deletable": true,
    "editable": true
   },
   "source": [
    "As hoped, quad gives the correct solution: \n",
    "\n",
    "$$\n",
    "\\int^\\alpha_0 \\sin(x)\\, dx = -\\cos(\\alpha) + 1\n",
    "$$\n",
    "\n",
    "### I didn't write most of the code - how do I know that the bit I wrote works?\n",
    "\n",
    "Unit tests! If the original code can run in isolation, make sure that there are suitable tests which make sure that it works correctly. Any failures in subsequent tests that then incorporate your code will therefore only be the result of bugs in your code. Unit tests of individual functions in your code should also be used. "
   ]
  },
  {
   "cell_type": "markdown",
   "metadata": {
    "deletable": true,
    "editable": true
   },
   "source": [
    "### I know there is some numerical error in my code - how can I test my code is correct up to this error?\n",
    "\n",
    "In numerical calculations, there will always be some computational error that cannot be avoided. This can from the computer's floating point representation of numerical data or from the choice of algorithm used. It is often the case that we don't require our result to be 100% precise, but rather correct up to some tolerance. We can therefore build tests to reflect this. \n",
    "\n",
    "In python, we can use `numpy.isclose` and `numpy.allclose` to do this. In the example below, we take some data and add a small amount of random noise to it. This random noise is supposed to represent numerical errors that are introduced over the course of a simulation. If we test that the output array is equal to the original array, python correctly tells us that it is not. However, if we test that the output array is close to the original array, we find that this is true."
   ]
  },
  {
   "cell_type": "code",
<<<<<<< HEAD
   "execution_count": 16,
   "metadata": {
    "collapsed": false,
    "deletable": true,
    "editable": true
   },
=======
   "execution_count": 19,
   "metadata": {},
>>>>>>> ac3cc491f544869a16016b36ca89b2ad9bf2ea55
   "outputs": [
    {
     "data": {
      "image/png": "iVBORw0KGgoAAAANSUhEUgAAAj0AAAEECAYAAADDDIX5AAAABHNCSVQICAgIfAhkiAAAAAlwSFlz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\n",
      "text/plain": [
       "<matplotlib.figure.Figure at 0x10ef00eb8>"
      ]
     },
     "metadata": {},
     "output_type": "display_data"
    },
    {
     "name": "stdout",
     "output_type": "stream",
     "text": [
      "Noisey data is not exactly equal to initial data\n",
      "Noisey data is close to initial data\n"
     ]
    }
   ],
   "source": [
    "x = numpy.linspace(0, 2*numpy.pi, num=500)\n",
    "initial_data = x**2 * numpy.cos(5*x)\n",
    "\n",
    "# add noise \n",
    "noisey_data = initial_data + (rand(len(x)) - 0.5) * 4\n",
    "\n",
    "plt.plot(x, initial_data, label='initial data')\n",
    "plt.plot(x, noisey_data, label='noisey data')\n",
    "plt.legend(loc='center left', bbox_to_anchor=[1.0, 0.5])\n",
    "plt.xlim(x[0], x[-1])\n",
    "plt.show()\n",
    "\n",
    "if numpy.array_equal(initial_data, noisey_data):\n",
    "    print('Noisey data exactly equal to initial data')\n",
    "else:\n",
    "    print('Noisey data is not exactly equal to initial data')\n",
    "    \n",
    "if numpy.allclose(initial_data, noisey_data, atol=2):\n",
    "    print('Noisey data is close to initial data')\n",
    "else:\n",
    "    print('Noisey data is not close to initial data')"
   ]
  },
  {
   "cell_type": "markdown",
   "metadata": {
    "deletable": true,
    "editable": true
   },
   "source": [
    "Another tactic that can be used here is to employ convergence tests to make sure that the numerical error is decreasing with increasing resolution (at least until the point where this error becomes dominated by floating point erorrs). If you know that the algorithm you are using to solve the system is accurate to some order, your solution should converge at a rate close to this. If not, it is likely that you have made a mistake in your implementation of the algorithm."
   ]
  },
  {
   "cell_type": "markdown",
   "metadata": {
    "deletable": true,
    "editable": true
   },
   "source": [
    "## Further reading"
   ]
  },
  {
   "cell_type": "markdown",
   "metadata": {
    "collapsed": true,
    "deletable": true,
    "editable": true
   },
   "source": [
    "- Check out [this presentation](https://www.google.co.uk/url?sa=t&rct=j&q=&esrc=s&source=web&cd=4&ved=0ahUKEwjg64jtyM7UAhVkLcAKHftYDiwQFghJMAM&url=http%3A%2F%2Farchive.euroscipy.org%2Ffile%2F8962%2Fraw%2FEuroScipy_tutorial_2012.pdf&usg=AFQjCNG0K9lmRR5wUbn-8C4YToxMdklW0Q&sig2=BhwDp-UodcNOLsSufqKUhg&cad=rja) by Pietro Berkes from EuroScipy 2012 which gives a detailed demonstration of how to use the python `unittest` library and covers some advanced testing topics such as mocks and patches\n",
    "- [The design and use of reference data sets for testing scientific software](http://http.icsi.berkeley.edu/ftp/pub/speech/papers/wikipapers/cox_harris_testing_numerical_software.pdf), M. G. Cox and P. M. Harris - outlines the problems with testing scientific software and how you can go about creating suitable test data\n"
   ]
  }
 ],
 "metadata": {
  "anaconda-cloud": {},
  "kernelspec": {
   "display_name": "Python [default]",
   "language": "python",
   "name": "python3"
  },
  "language_info": {
   "codemirror_mode": {
    "name": "ipython",
    "version": 3
   },
   "file_extension": ".py",
   "mimetype": "text/x-python",
   "name": "python",
   "nbconvert_exporter": "python",
   "pygments_lexer": "ipython3",
<<<<<<< HEAD
   "version": "3.6.0"
  },
  "toc": {
   "colors": {
    "hover_highlight": "#DAA520",
    "running_highlight": "#FF0000",
    "selected_highlight": "#FFD700"
   },
   "moveMenuLeft": true,
   "nav_menu": {
    "height": "297px",
    "width": "252px"
   },
   "navigate_menu": true,
   "number_sections": true,
   "sideBar": true,
   "threshold": 4,
   "toc_cell": false,
   "toc_section_display": "block",
   "toc_window_display": false
=======
   "version": "3.5.3"
>>>>>>> ac3cc491f544869a16016b36ca89b2ad9bf2ea55
  }
 },
 "nbformat": 4,
 "nbformat_minor": 1
}
